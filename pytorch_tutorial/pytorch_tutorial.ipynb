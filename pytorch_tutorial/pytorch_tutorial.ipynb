{
  "cells": [
    {
      "cell_type": "markdown",
      "metadata": {
        "id": "4-P_Zyf6AviL"
      },
      "source": [
        "# A Gentle Introduction to PyTorch\n",
        "\n",
        "TAs: Kinshuk Vasisht, Debarpan Bhattacharya"
      ]
    },
    {
      "cell_type": "markdown",
      "metadata": {
        "id": "lQkFl0OhA_0k"
      },
      "source": [
        "### Installation and Setup"
      ]
    },
    {
      "cell_type": "markdown",
      "metadata": {
        "id": "uKrm_kgmDIEu"
      },
      "source": [
        "- [https://pytorch.org/get-started/locally/](https://pytorch.org/get-started/locally/)"
      ]
    },
    {
      "cell_type": "code",
      "execution_count": null,
      "metadata": {
        "id": "6sjbpj0_EPSR"
      },
      "outputs": [],
      "source": [
        "!nvidia-smi | head -4"
      ]
    },
    {
      "cell_type": "code",
      "execution_count": null,
      "metadata": {
        "id": "YcGLpMnRAi8m"
      },
      "outputs": [],
      "source": [
        "%pip3 install torch --index-url https://download.pytorch.org/whl/cu118"
      ]
    },
    {
      "cell_type": "code",
      "execution_count": null,
      "metadata": {
        "colab": {
          "base_uri": "https://localhost:8080/"
        },
        "id": "bDfm8w0jQkJG",
        "outputId": "6dc9aec7-12b8-4962-a9c0-6c0a41782660"
      },
      "outputs": [],
      "source": [
        "# Visualization purposes only, not required for using PyTorch\n",
        "%pip install graphviz torchviz"
      ]
    },
    {
      "cell_type": "code",
      "execution_count": 1,
      "metadata": {},
      "outputs": [],
      "source": [
        "import gc"
      ]
    },
    {
      "cell_type": "code",
      "execution_count": 2,
      "metadata": {
        "id": "lh9oJYQyDmoT"
      },
      "outputs": [],
      "source": [
        "import torch"
      ]
    },
    {
      "cell_type": "code",
      "execution_count": 3,
      "metadata": {
        "id": "fib0rtixePhl"
      },
      "outputs": [],
      "source": [
        "import numpy\n",
        "import torchviz\n",
        "import tqdm.auto as tqdm\n",
        "\n",
        "from matplotlib import pyplot"
      ]
    },
    {
      "cell_type": "markdown",
      "metadata": {
        "id": "xWSbrg-fDpcu"
      },
      "source": [
        "> Check if `pytorch` can access your GPU:"
      ]
    },
    {
      "cell_type": "code",
      "execution_count": 4,
      "metadata": {
        "colab": {
          "base_uri": "https://localhost:8080/"
        },
        "id": "iwAYxC5sDoVr",
        "outputId": "a6b3bba6-7dbe-4547-aa40-257771a4aa59"
      },
      "outputs": [
        {
          "data": {
            "text/plain": [
              "True"
            ]
          },
          "execution_count": 4,
          "metadata": {},
          "output_type": "execute_result"
        }
      ],
      "source": [
        "torch.cuda.is_available()"
      ]
    },
    {
      "cell_type": "markdown",
      "metadata": {},
      "source": [
        "> View available GPU devices (number of GPUs):\n",
        "\n",
        "- Note: GPU devices are 0-indexed"
      ]
    },
    {
      "cell_type": "code",
      "execution_count": null,
      "metadata": {},
      "outputs": [],
      "source": [
        "torch.cuda.device_count()"
      ]
    },
    {
      "cell_type": "markdown",
      "metadata": {
        "id": "-BAIiYQ7BBoI"
      },
      "source": [
        "### Quickstart - Tensors"
      ]
    },
    {
      "cell_type": "markdown",
      "metadata": {
        "id": "93l6GdcvPuVk"
      },
      "source": [
        "#### Basics"
      ]
    },
    {
      "cell_type": "code",
      "execution_count": 6,
      "metadata": {},
      "outputs": [
        {
          "data": {
            "text/plain": [
              "tensor([[1, 2, 3],\n",
              "        [4, 5, 6]])"
            ]
          },
          "execution_count": 6,
          "metadata": {},
          "output_type": "execute_result"
        }
      ],
      "source": [
        "# creating a tensor: torch.tensor and torch.as_tensor\n",
        "\n",
        "data = torch.tensor([[ 1, 2, 3 ], [ 4, 5, 6 ]])\n",
        "data"
      ]
    },
    {
      "cell_type": "code",
      "execution_count": 7,
      "metadata": {},
      "outputs": [
        {
          "data": {
            "text/plain": [
              "tensor([[1, 2, 3],\n",
              "        [4, 5, 6]])"
            ]
          },
          "execution_count": 7,
          "metadata": {},
          "output_type": "execute_result"
        }
      ],
      "source": [
        "data2 = torch.as_tensor(data)\n",
        "data2"
      ]
    },
    {
      "cell_type": "code",
      "execution_count": 8,
      "metadata": {},
      "outputs": [
        {
          "data": {
            "text/plain": [
              "tensor(9000)"
            ]
          },
          "execution_count": 8,
          "metadata": {},
          "output_type": "execute_result"
        }
      ],
      "source": [
        "# as_tensor vs tensor\n",
        "\n",
        "data2[1, 2] = 9000\n",
        "data[1, 2]"
      ]
    },
    {
      "cell_type": "code",
      "execution_count": 12,
      "metadata": {},
      "outputs": [
        {
          "data": {
            "text/plain": [
              "array([[3.52025544e-01, 9.00000000e+02],\n",
              "       [1.34689877e-01, 4.64551755e-02],\n",
              "       [2.59624476e-01, 6.20976702e-02]])"
            ]
          },
          "execution_count": 12,
          "metadata": {},
          "output_type": "execute_result"
        }
      ],
      "source": [
        "# from a numpy array\n",
        "\n",
        "np_data = numpy.random.rand(3, 2)\n",
        "pt_data = torch.as_tensor(np_data)\n",
        "\n",
        "# as tensor allows modifying source numpy array!\n",
        "pt_data[0, 1] = 900\n",
        "\n",
        "np_data"
      ]
    },
    {
      "cell_type": "code",
      "execution_count": 13,
      "metadata": {},
      "outputs": [
        {
          "name": "stdout",
          "output_type": "stream",
          "text": [
            "> Shape   : torch.Size([2, 3])\n",
            "> Datatype: torch.int64\n",
            "> Device  : cpu\n"
          ]
        }
      ],
      "source": [
        "# basic properties: type of elements, dimensions\n",
        "\n",
        "def describe(tensor: torch.Tensor):\n",
        "    print(\"> Shape   :\", tensor.shape)\n",
        "    print(\"> Datatype:\", tensor.dtype)\n",
        "    print(\"> Device  :\", tensor.device)\n",
        "\n",
        "describe(data)"
      ]
    },
    {
      "cell_type": "code",
      "execution_count": 14,
      "metadata": {},
      "outputs": [
        {
          "name": "stdout",
          "output_type": "stream",
          "text": [
            "[[1, 2, 3], [4, 5, 9000]] <class 'list'>\n",
            "[[   1    2    3]\n",
            " [   4    5 9000]] <class 'numpy.ndarray'>\n"
          ]
        }
      ],
      "source": [
        "# from tensors to other types:\n",
        "\n",
        "# list\n",
        "print(data.tolist(), type(data.tolist()))\n",
        "\n",
        "# numpy array\n",
        "print(data.numpy(), type(data.numpy()))"
      ]
    },
    {
      "cell_type": "markdown",
      "metadata": {
        "id": "hsN_3rlVPv-N"
      },
      "source": [
        "#### Tensor Operations"
      ]
    },
    {
      "cell_type": "markdown",
      "metadata": {},
      "source": [
        "Most operations available out-of-the-box, with the same name as `numpy` operations.\n",
        "\n",
        "Terminology differences:\n",
        "\n",
        "| `numpy` | `torch` |\n",
        "| --- | --- |\n",
        "| `shape` | `shape` (property) / `size` (method), `size` (function parameters) |\n",
        "| `axis` | `dim` |\n",
        "| `size` | `numel` (method) |"
      ]
    },
    {
      "cell_type": "code",
      "execution_count": 15,
      "metadata": {
        "id": "f_rgcecrPyzS"
      },
      "outputs": [
        {
          "data": {
            "text/plain": [
              "tensor([[0.1134, 0.8998, 0.6722, 0.3071, 0.8054, 0.9761],\n",
              "        [0.1821, 0.9739, 0.9675, 0.7556, 0.7555, 0.1140],\n",
              "        [0.8622, 0.7942, 0.8220, 0.5289, 0.9448, 0.8081],\n",
              "        [0.7805, 0.4342, 0.6890, 0.7416, 0.8267, 0.5480],\n",
              "        [0.6252, 0.1345, 0.4159, 0.3040, 0.7204, 0.7056]])"
            ]
          },
          "execution_count": 15,
          "metadata": {},
          "output_type": "execute_result"
        }
      ],
      "source": [
        "torch.manual_seed(20240130)\n",
        "data = torch.rand(5, 6)\n",
        "data"
      ]
    },
    {
      "cell_type": "code",
      "execution_count": 16,
      "metadata": {},
      "outputs": [
        {
          "data": {
            "text/plain": [
              "tensor([[1.7894, 1.3871, 1.7589, 1.3972, 2.1390, 1.6970],\n",
              "        [1.3871, 2.5955, 2.5550, 1.7952, 2.6666, 1.9640],\n",
              "        [1.7589, 2.5550, 2.7113, 2.0096, 2.9181, 2.1017],\n",
              "        [1.3972, 1.7952, 2.0096, 1.5873, 2.1499, 1.4343],\n",
              "        [2.1390, 2.6666, 2.9181, 2.1499, 3.3142, 2.5970],\n",
              "        [1.6970, 1.9640, 2.1017, 1.4343, 2.5970, 2.4170]])"
            ]
          },
          "execution_count": 16,
          "metadata": {},
          "output_type": "execute_result"
        }
      ],
      "source": [
        "# mathematical functions: arithmetic, vector operations\n",
        "\n",
        "data + data\n",
        "data * data\n",
        "data.T @ data"
      ]
    },
    {
      "cell_type": "code",
      "execution_count": 17,
      "metadata": {},
      "outputs": [
        {
          "data": {
            "text/plain": [
              "tensor([[0.1134, 0.8998, 0.6722, 0.3071, 0.8054, 0.9761],\n",
              "        [0.1821, 0.9739, 0.9675, 0.7556, 0.7555, 0.1140],\n",
              "        [0.8622, 0.7942, 0.8220, 0.5289, 0.9448, 0.8081],\n",
              "        [0.7805, 0.4342, 0.6890, 0.7416, 0.8267, 0.5480],\n",
              "        [0.6252, 0.1345, 0.4159, 0.3040, 0.7204, 0.7056],\n",
              "        [0.1134, 0.8998, 0.6722, 0.3071, 0.8054, 0.9761],\n",
              "        [0.1821, 0.9739, 0.9675, 0.7556, 0.7555, 0.1140],\n",
              "        [0.8622, 0.7942, 0.8220, 0.5289, 0.9448, 0.8081],\n",
              "        [0.7805, 0.4342, 0.6890, 0.7416, 0.8267, 0.5480],\n",
              "        [0.6252, 0.1345, 0.4159, 0.3040, 0.7204, 0.7056]])"
            ]
          },
          "execution_count": 17,
          "metadata": {},
          "output_type": "execute_result"
        }
      ],
      "source": [
        "# concatenations: torch.cat, torch.stack\n",
        "\n",
        "torch.cat([ data, data ])"
      ]
    },
    {
      "cell_type": "code",
      "execution_count": 18,
      "metadata": {},
      "outputs": [
        {
          "data": {
            "text/plain": [
              "torch.Size([2, 5, 6])"
            ]
          },
          "execution_count": 18,
          "metadata": {},
          "output_type": "execute_result"
        }
      ],
      "source": [
        "torch.stack([ data, data ]).shape"
      ]
    },
    {
      "cell_type": "markdown",
      "metadata": {},
      "source": [
        "#### The PyTorch Advantage: Built-in Acceleration over faster hardware"
      ]
    },
    {
      "cell_type": "markdown",
      "metadata": {},
      "source": [
        "Devices in PyTorch:\n",
        "\n",
        "- Controls where memory for the tensor is reserved, and corresponding operations are performed.\n",
        "- Default device: `cpu`: Stored in device RAM, computations on device CPU.\n",
        "- Acceleration: `cuda[:{index}]`: Stored on GPU VRAM, computations on GPU."
      ]
    },
    {
      "cell_type": "code",
      "execution_count": 19,
      "metadata": {},
      "outputs": [
        {
          "name": "stdout",
          "output_type": "stream",
          "text": [
            "cpu\n",
            "cuda:0\n"
          ]
        }
      ],
      "source": [
        "print(data.device)\n",
        "data = data.to('cuda')\n",
        "# or\n",
        "data = data.cuda()\n",
        "print(data.device)"
      ]
    },
    {
      "cell_type": "code",
      "execution_count": 20,
      "metadata": {},
      "outputs": [],
      "source": [
        "torch.manual_seed(20240130)\n",
        "\n",
        "pt_data1     = torch.rand(12, 4096, 768)\n",
        "pt_data1_acc = pt_data1.to('cuda')\n",
        "np_data1     = pt_data1.numpy()\n",
        "\n",
        "pt_data2     = torch.rand(12, 768, 4096)\n",
        "pt_data2_acc = pt_data2.to('cuda')\n",
        "np_data2     = pt_data2.numpy()"
      ]
    },
    {
      "cell_type": "code",
      "execution_count": 21,
      "metadata": {},
      "outputs": [],
      "source": [
        "gc.collect()\n",
        "torch.cuda.empty_cache()\n",
        "torch.cuda.synchronize()"
      ]
    },
    {
      "cell_type": "code",
      "execution_count": 22,
      "metadata": {},
      "outputs": [
        {
          "name": "stdout",
          "output_type": "stream",
          "text": [
            "37.3 µs ± 25 µs per loop (mean ± std. dev. of 4 runs, 1 loop each)\n"
          ]
        }
      ],
      "source": [
        "%%timeit -r 4\n",
        "pt_data2_acc @ pt_data1_acc"
      ]
    },
    {
      "cell_type": "code",
      "execution_count": 23,
      "metadata": {},
      "outputs": [
        {
          "name": "stdout",
          "output_type": "stream",
          "text": [
            "52.7 ms ± 5.06 ms per loop (mean ± std. dev. of 4 runs, 10 loops each)\n"
          ]
        }
      ],
      "source": [
        "%%timeit -r 4\n",
        "pt_data2 @ pt_data1"
      ]
    },
    {
      "cell_type": "code",
      "execution_count": 24,
      "metadata": {},
      "outputs": [
        {
          "name": "stdout",
          "output_type": "stream",
          "text": [
            "46.2 ms ± 660 µs per loop (mean ± std. dev. of 4 runs, 10 loops each)\n"
          ]
        }
      ],
      "source": [
        "%%timeit -r 4\n",
        "np_data2 @ np_data1"
      ]
    },
    {
      "cell_type": "markdown",
      "metadata": {
        "id": "AUtWHemXPzFV"
      },
      "source": [
        "#### Utility Functions"
      ]
    },
    {
      "cell_type": "code",
      "execution_count": 25,
      "metadata": {},
      "outputs": [
        {
          "data": {
            "text/plain": [
              "tensor([[0.1134, 0.8998, 0.6722, 0.3071, 0.8054, 0.9761],\n",
              "        [0.1821, 0.9739, 0.9675, 0.7556, 0.7555, 0.1140],\n",
              "        [0.8622, 0.7942, 0.8220, 0.5289, 0.9448, 0.8081],\n",
              "        [0.7805, 0.4342, 0.6890, 0.7416, 0.8267, 0.5480],\n",
              "        [0.6252, 0.1345, 0.4159, 0.3040, 0.7204, 0.7056],\n",
              "        [0.5813, 0.6612, 0.9533, 0.4686, 0.9869, 0.6142]])"
            ]
          },
          "execution_count": 25,
          "metadata": {},
          "output_type": "execute_result"
        }
      ],
      "source": [
        "torch.manual_seed(20240130)\n",
        "\n",
        "data        = torch.rand(6, 6)\n",
        "batch_data1 = torch.rand(3, 28, 768)\n",
        "batch_data2 = torch.rand(3, 768, 28)\n",
        "data"
      ]
    },
    {
      "cell_type": "markdown",
      "metadata": {},
      "source": [
        "- `torch.Tensor.view`"
      ]
    },
    {
      "cell_type": "code",
      "execution_count": 26,
      "metadata": {},
      "outputs": [
        {
          "name": "stdout",
          "output_type": "stream",
          "text": [
            "tensor(0.5289)\n",
            "tensor(9.)\n"
          ]
        }
      ],
      "source": [
        "data2 = data.view(2, 3, 6)\n",
        "print(data[2, 3])\n",
        "data2[0, 2, 3] = 9\n",
        "print(data[2, 3])"
      ]
    },
    {
      "cell_type": "markdown",
      "metadata": {},
      "source": [
        "- `torch.Tensor.transpose`"
      ]
    },
    {
      "cell_type": "code",
      "execution_count": 27,
      "metadata": {},
      "outputs": [
        {
          "name": "stdout",
          "output_type": "stream",
          "text": [
            "torch.Size([3, 28, 768])\n",
            "torch.Size([768, 28, 3])\n"
          ]
        }
      ],
      "source": [
        "print(batch_data1.shape)\n",
        "print(batch_data1.transpose(0, 2).shape)"
      ]
    },
    {
      "cell_type": "markdown",
      "metadata": {},
      "source": [
        "- `torch.gather`:"
      ]
    },
    {
      "cell_type": "code",
      "execution_count": 28,
      "metadata": {},
      "outputs": [
        {
          "data": {
            "text/plain": [
              "tensor([[0.1134, 0.8998, 0.6722, 0.3071, 0.8054, 0.9761],\n",
              "        [0.1821, 0.9739, 0.9675, 0.7556, 0.7555, 0.1140],\n",
              "        [0.8622, 0.7942, 0.8220, 9.0000, 0.9448, 0.8081],\n",
              "        [0.7805, 0.4342, 0.6890, 0.7416, 0.8267, 0.5480],\n",
              "        [0.6252, 0.1345, 0.4159, 0.3040, 0.7204, 0.7056],\n",
              "        [0.5813, 0.6612, 0.9533, 0.4686, 0.9869, 0.6142]])"
            ]
          },
          "execution_count": 28,
          "metadata": {},
          "output_type": "execute_result"
        }
      ],
      "source": [
        "data"
      ]
    },
    {
      "cell_type": "code",
      "execution_count": 29,
      "metadata": {},
      "outputs": [
        {
          "data": {
            "text/plain": [
              "tensor([[1, 4],\n",
              "        [3, 2]])"
            ]
          },
          "execution_count": 29,
          "metadata": {},
          "output_type": "execute_result"
        }
      ],
      "source": [
        "# example\n",
        "torch.gather(\n",
        "    torch.tensor([\n",
        "        [ 1, 2 ],\n",
        "        [ 3, 4 ]\n",
        "    ]), dim=0, index=torch.tensor([\n",
        "        [ 0, 1 ],\n",
        "        [ 1, 0 ]\n",
        "    ])\n",
        ")"
      ]
    },
    {
      "cell_type": "code",
      "execution_count": 30,
      "metadata": {},
      "outputs": [
        {
          "data": {
            "text/plain": [
              "tensor([[0.1134, 0.1134, 0.1134, 0.1134, 0.1134, 0.1134],\n",
              "        [0.1821, 0.1821, 0.1821, 0.1821, 0.1821, 0.1821],\n",
              "        [0.8622, 0.8622, 0.8622, 0.8622, 0.8622, 0.8622],\n",
              "        [0.7805, 0.7805, 0.7805, 0.7805, 0.7805, 0.7805],\n",
              "        [0.6252, 0.6252, 0.6252, 0.6252, 0.6252, 0.6252],\n",
              "        [0.5813, 0.5813, 0.5813, 0.5813, 0.5813, 0.5813]])"
            ]
          },
          "execution_count": 30,
          "metadata": {},
          "output_type": "execute_result"
        }
      ],
      "source": [
        "# make tensor from 1st element of each row\n",
        "torch.gather(data, dim=1, index=torch.zeros_like(data, dtype=torch.int64))"
      ]
    },
    {
      "cell_type": "code",
      "execution_count": 31,
      "metadata": {},
      "outputs": [
        {
          "data": {
            "text/plain": [
              "tensor([[0.1134, 0.3071, 0.6722, 0.8054, 0.8998, 0.9761],\n",
              "        [0.1140, 0.1821, 0.7555, 0.7556, 0.9675, 0.9739],\n",
              "        [0.7942, 0.8081, 0.8220, 0.8622, 0.9448, 9.0000],\n",
              "        [0.4342, 0.5480, 0.6890, 0.7416, 0.7805, 0.8267],\n",
              "        [0.1345, 0.3040, 0.4159, 0.6252, 0.7056, 0.7204],\n",
              "        [0.4686, 0.5813, 0.6142, 0.6612, 0.9533, 0.9869]])"
            ]
          },
          "execution_count": 31,
          "metadata": {},
          "output_type": "execute_result"
        }
      ],
      "source": [
        "# column sort\n",
        "torch.gather(data, dim=1, index=data.argsort(dim=1))"
      ]
    },
    {
      "cell_type": "markdown",
      "metadata": {},
      "source": [
        "- `torch.take`"
      ]
    },
    {
      "cell_type": "code",
      "execution_count": 32,
      "metadata": {},
      "outputs": [
        {
          "data": {
            "text/plain": [
              "tensor([0.1134, 0.6142])"
            ]
          },
          "execution_count": 32,
          "metadata": {},
          "output_type": "execute_result"
        }
      ],
      "source": [
        "torch.take(data, torch.tensor([ 0, 35 ]))"
      ]
    },
    {
      "cell_type": "markdown",
      "metadata": {},
      "source": [
        "- `torch.permute`"
      ]
    },
    {
      "cell_type": "code",
      "execution_count": 33,
      "metadata": {},
      "outputs": [
        {
          "data": {
            "text/plain": [
              "torch.Size([768, 3, 28])"
            ]
          },
          "execution_count": 33,
          "metadata": {},
          "output_type": "execute_result"
        }
      ],
      "source": [
        "torch.permute(batch_data1, (2, 0, 1)).shape"
      ]
    },
    {
      "cell_type": "markdown",
      "metadata": {},
      "source": [
        "- `torch.bmm`"
      ]
    },
    {
      "cell_type": "code",
      "execution_count": 34,
      "metadata": {},
      "outputs": [
        {
          "name": "stdout",
          "output_type": "stream",
          "text": [
            "torch.Size([3, 28, 28])\n",
            "torch.Size([3, 28, 28])\n"
          ]
        }
      ],
      "source": [
        "print(torch.bmm(batch_data1, batch_data2).shape)\n",
        "print((batch_data1 @ batch_data2).shape)\n",
        "\n",
        "assert torch.allclose(torch.bmm(batch_data1, batch_data2), batch_data1 @ batch_data2)"
      ]
    },
    {
      "cell_type": "code",
      "execution_count": 35,
      "metadata": {},
      "outputs": [
        {
          "name": "stdout",
          "output_type": "stream",
          "text": [
            "46 µs ± 130 ns per loop (mean ± std. dev. of 4 runs, 10,000 loops each)\n"
          ]
        }
      ],
      "source": [
        "%%timeit -r 4\n",
        "torch.bmm(batch_data1, batch_data2)"
      ]
    },
    {
      "cell_type": "code",
      "execution_count": 36,
      "metadata": {},
      "outputs": [
        {
          "name": "stdout",
          "output_type": "stream",
          "text": [
            "59.3 µs ± 3.66 µs per loop (mean ± std. dev. of 4 runs, 10,000 loops each)\n"
          ]
        }
      ],
      "source": [
        "%%timeit -r 4\n",
        "(batch_data1 @ batch_data2)"
      ]
    },
    {
      "cell_type": "markdown",
      "metadata": {},
      "source": [
        "- `torch.einsum`\n",
        "\n",
        "[https://einops.rocks/pytorch-examples.html](https://einops.rocks/pytorch-examples.html)"
      ]
    },
    {
      "cell_type": "code",
      "execution_count": 37,
      "metadata": {},
      "outputs": [],
      "source": [
        "# diagonal\n",
        "comp = torch.einsum(\"ii->i\", data)\n",
        "assert torch.equal(comp, data.diag())\n",
        "\n",
        "# matmul\n",
        "comp = torch.einsum(\"ik,kj->ij\", data.T, data)\n",
        "assert torch.allclose(comp, data.T @ data)\n",
        "\n",
        "# transpose\n",
        "comp = torch.einsum(\"ij -> ji\", data)\n",
        "assert torch.equal(comp, data.T)\n",
        "\n",
        "# axis 0 sum\n",
        "comp = torch.einsum(\"ij -> j\", data)\n",
        "assert torch.equal(comp, data.sum(dim=0))\n",
        "\n",
        "# all sum\n",
        "comp = torch.einsum(\"ij -> \", data)\n",
        "assert torch.equal(comp, data.sum())\n",
        "\n",
        "# batch matrix multiplication\n",
        "comp = torch.einsum(\"bik, bkj -> bij\", batch_data1, batch_data2)\n",
        "assert torch.equal(comp, torch.bmm(batch_data1, batch_data2))"
      ]
    },
    {
      "cell_type": "markdown",
      "metadata": {},
      "source": [
        "Gram Matrix for Neural Style Transfer:\n",
        "\n",
        "- $d = (h \\times w)$\n",
        "- $F^l \\in \\mathbb{R}^{c \\times d}$\n",
        "- $G^l_{ij} = \\frac{1}{d}\\sum_{k=1}^{d}{F_{ik}^l F_{jk}^l} \\implies G^l = \\frac{1}{d} F^l {F^l}^\\top$"
      ]
    },
    {
      "cell_type": "code",
      "execution_count": 38,
      "metadata": {},
      "outputs": [],
      "source": [
        "layer_output = torch.rand(2, 3, 28, 28)"
      ]
    },
    {
      "cell_type": "code",
      "execution_count": 39,
      "metadata": {},
      "outputs": [
        {
          "data": {
            "text/plain": [
              "tensor([[[0.3227, 0.2421, 0.2393],\n",
              "         [0.2421, 0.3155, 0.2393],\n",
              "         [0.2393, 0.2393, 0.3178]],\n",
              "\n",
              "        [[0.3275, 0.2387, 0.2471],\n",
              "         [0.2387, 0.3234, 0.2515],\n",
              "         [0.2471, 0.2515, 0.3506]]])"
            ]
          },
          "execution_count": 39,
          "metadata": {},
          "output_type": "execute_result"
        }
      ],
      "source": [
        "def gram_matrix_old(y):\n",
        "    b, ch, h, w = y.shape\n",
        "    features = y.view(b, ch, w * h)\n",
        "    return features.bmm(features.transpose(1, 2)) / (h * w)\n",
        "\n",
        "gram_matrix_old(layer_output)"
      ]
    },
    {
      "cell_type": "code",
      "execution_count": 40,
      "metadata": {},
      "outputs": [
        {
          "data": {
            "text/plain": [
              "tensor([[[0.3227, 0.2421, 0.2393],\n",
              "         [0.2421, 0.3155, 0.2393],\n",
              "         [0.2393, 0.2393, 0.3178]],\n",
              "\n",
              "        [[0.3275, 0.2387, 0.2471],\n",
              "         [0.2387, 0.3234, 0.2515],\n",
              "         [0.2471, 0.2515, 0.3506]]])"
            ]
          },
          "execution_count": 40,
          "metadata": {},
          "output_type": "execute_result"
        }
      ],
      "source": [
        "def gram_matrix_new(y):\n",
        "    b, ch, h, w = y.shape\n",
        "    return torch.einsum('bchw, bdhw -> bcd', [y, y]) / (h * w)\n",
        "\n",
        "gram_matrix_new(layer_output)"
      ]
    },
    {
      "cell_type": "markdown",
      "metadata": {
        "id": "gvfEf6ryBGAz"
      },
      "source": [
        "### Automatic Differentiation with `torch.autograd`"
      ]
    },
    {
      "cell_type": "markdown",
      "metadata": {
        "id": "8vbNrV_ZFDE0"
      },
      "source": [
        "#### Computation Graphs"
      ]
    },
    {
      "cell_type": "code",
      "execution_count": 41,
      "metadata": {
        "id": "2Kxd5sRnFHoL"
      },
      "outputs": [
        {
          "data": {
            "image/svg+xml": [
              "<?xml version=\"1.0\" encoding=\"UTF-8\" standalone=\"no\"?>\n",
              "<!DOCTYPE svg PUBLIC \"-//W3C//DTD SVG 1.1//EN\"\n",
              " \"http://www.w3.org/Graphics/SVG/1.1/DTD/svg11.dtd\">\n",
              "<!-- Generated by graphviz version 2.50.0 (0)\n",
              " -->\n",
              "<!-- Pages: 1 -->\n",
              "<svg width=\"234pt\" height=\"436pt\"\n",
              " viewBox=\"0.00 0.00 234.00 436.00\" xmlns=\"http://www.w3.org/2000/svg\" xmlns:xlink=\"http://www.w3.org/1999/xlink\">\n",
              "<g id=\"graph0\" class=\"graph\" transform=\"scale(1 1) rotate(0) translate(4 432)\">\n",
              "<polygon fill=\"white\" stroke=\"transparent\" points=\"-4,4 -4,-432 230,-432 230,4 -4,4\"/>\n",
              "<!-- 140153320536688 -->\n",
              "<g id=\"node1\" class=\"node\">\n",
              "<title>140153320536688</title>\n",
              "<polygon fill=\"#caff70\" stroke=\"black\" points=\"145,-31 86,-31 86,0 145,0 145,-31\"/>\n",
              "<text text-anchor=\"middle\" x=\"115.5\" y=\"-7\" font-family=\"monospace\" font-size=\"10.00\"> (1, 1)</text>\n",
              "</g>\n",
              "<!-- 140153320287744 -->\n",
              "<g id=\"node2\" class=\"node\">\n",
              "<title>140153320287744</title>\n",
              "<polygon fill=\"lightgrey\" stroke=\"black\" points=\"160,-86 71,-86 71,-67 160,-67 160,-86\"/>\n",
              "<text text-anchor=\"middle\" x=\"115.5\" y=\"-74\" font-family=\"monospace\" font-size=\"10.00\">PowBackward0</text>\n",
              "</g>\n",
              "<!-- 140153320287744&#45;&gt;140153320536688 -->\n",
              "<g id=\"edge11\" class=\"edge\">\n",
              "<title>140153320287744&#45;&gt;140153320536688</title>\n",
              "<path fill=\"none\" stroke=\"black\" d=\"M115.5,-66.79C115.5,-60.07 115.5,-50.4 115.5,-41.34\"/>\n",
              "<polygon fill=\"black\" stroke=\"black\" points=\"119,-41.19 115.5,-31.19 112,-41.19 119,-41.19\"/>\n",
              "</g>\n",
              "<!-- 140153320289376 -->\n",
              "<g id=\"node3\" class=\"node\">\n",
              "<title>140153320289376</title>\n",
              "<polygon fill=\"lightgrey\" stroke=\"black\" points=\"172,-141 59,-141 59,-122 172,-122 172,-141\"/>\n",
              "<text text-anchor=\"middle\" x=\"115.5\" y=\"-129\" font-family=\"monospace\" font-size=\"10.00\">MaximumBackward0</text>\n",
              "</g>\n",
              "<!-- 140153320289376&#45;&gt;140153320287744 -->\n",
              "<g id=\"edge1\" class=\"edge\">\n",
              "<title>140153320289376&#45;&gt;140153320287744</title>\n",
              "<path fill=\"none\" stroke=\"black\" d=\"M115.5,-121.75C115.5,-114.8 115.5,-104.85 115.5,-96.13\"/>\n",
              "<polygon fill=\"black\" stroke=\"black\" points=\"119,-96.09 115.5,-86.09 112,-96.09 119,-96.09\"/>\n",
              "</g>\n",
              "<!-- 140153320289760 -->\n",
              "<g id=\"node4\" class=\"node\">\n",
              "<title>140153320289760</title>\n",
              "<polygon fill=\"lightgrey\" stroke=\"black\" points=\"157,-196 74,-196 74,-177 157,-177 157,-196\"/>\n",
              "<text text-anchor=\"middle\" x=\"115.5\" y=\"-184\" font-family=\"monospace\" font-size=\"10.00\">MmBackward0</text>\n",
              "</g>\n",
              "<!-- 140153320289760&#45;&gt;140153320289376 -->\n",
              "<g id=\"edge2\" class=\"edge\">\n",
              "<title>140153320289760&#45;&gt;140153320289376</title>\n",
              "<path fill=\"none\" stroke=\"black\" d=\"M115.5,-176.75C115.5,-169.8 115.5,-159.85 115.5,-151.13\"/>\n",
              "<polygon fill=\"black\" stroke=\"black\" points=\"119,-151.09 115.5,-141.09 112,-151.09 119,-151.09\"/>\n",
              "</g>\n",
              "<!-- 140153320288080 -->\n",
              "<g id=\"node5\" class=\"node\">\n",
              "<title>140153320288080</title>\n",
              "<polygon fill=\"lightgrey\" stroke=\"black\" points=\"220,-251 131,-251 131,-232 220,-232 220,-251\"/>\n",
              "<text text-anchor=\"middle\" x=\"175.5\" y=\"-239\" font-family=\"monospace\" font-size=\"10.00\">PowBackward0</text>\n",
              "</g>\n",
              "<!-- 140153320288080&#45;&gt;140153320289760 -->\n",
              "<g id=\"edge3\" class=\"edge\">\n",
              "<title>140153320288080&#45;&gt;140153320289760</title>\n",
              "<path fill=\"none\" stroke=\"black\" d=\"M165.86,-231.98C156.99,-224.15 143.63,-212.34 132.89,-202.86\"/>\n",
              "<polygon fill=\"black\" stroke=\"black\" points=\"135.13,-200.17 125.32,-196.17 130.49,-205.41 135.13,-200.17\"/>\n",
              "</g>\n",
              "<!-- 140153320288032 -->\n",
              "<g id=\"node6\" class=\"node\">\n",
              "<title>140153320288032</title>\n",
              "<polygon fill=\"lightgrey\" stroke=\"black\" points=\"226,-361 125,-361 125,-342 226,-342 226,-361\"/>\n",
              "<text text-anchor=\"middle\" x=\"175.5\" y=\"-349\" font-family=\"monospace\" font-size=\"10.00\">AccumulateGrad</text>\n",
              "</g>\n",
              "<!-- 140153320288032&#45;&gt;140153320288080 -->\n",
              "<g id=\"edge4\" class=\"edge\">\n",
              "<title>140153320288032&#45;&gt;140153320288080</title>\n",
              "<path fill=\"none\" stroke=\"black\" d=\"M175.5,-341.66C175.5,-324.17 175.5,-284.8 175.5,-261.27\"/>\n",
              "<polygon fill=\"black\" stroke=\"black\" points=\"179,-261.16 175.5,-251.16 172,-261.16 179,-261.16\"/>\n",
              "</g>\n",
              "<!-- 140153320289184 -->\n",
              "<g id=\"node9\" class=\"node\">\n",
              "<title>140153320289184</title>\n",
              "<polygon fill=\"lightgrey\" stroke=\"black\" points=\"101,-306 12,-306 12,-287 101,-287 101,-306\"/>\n",
              "<text text-anchor=\"middle\" x=\"56.5\" y=\"-294\" font-family=\"monospace\" font-size=\"10.00\">AddBackward0</text>\n",
              "</g>\n",
              "<!-- 140153320288032&#45;&gt;140153320289184 -->\n",
              "<g id=\"edge8\" class=\"edge\">\n",
              "<title>140153320288032&#45;&gt;140153320289184</title>\n",
              "<path fill=\"none\" stroke=\"black\" d=\"M156.38,-341.98C137.15,-333.42 107.27,-320.11 85.19,-310.28\"/>\n",
              "<polygon fill=\"black\" stroke=\"black\" points=\"86.53,-307.04 75.97,-306.17 83.68,-313.44 86.53,-307.04\"/>\n",
              "</g>\n",
              "<!-- 140153320537328 -->\n",
              "<g id=\"node7\" class=\"node\">\n",
              "<title>140153320537328</title>\n",
              "<polygon fill=\"lightblue\" stroke=\"black\" points=\"205,-428 146,-428 146,-397 205,-397 205,-428\"/>\n",
              "<text text-anchor=\"middle\" x=\"175.5\" y=\"-404\" font-family=\"monospace\" font-size=\"10.00\"> (1, 2)</text>\n",
              "</g>\n",
              "<!-- 140153320537328&#45;&gt;140153320288032 -->\n",
              "<g id=\"edge5\" class=\"edge\">\n",
              "<title>140153320537328&#45;&gt;140153320288032</title>\n",
              "<path fill=\"none\" stroke=\"black\" d=\"M175.5,-396.92C175.5,-389.22 175.5,-379.69 175.5,-371.43\"/>\n",
              "<polygon fill=\"black\" stroke=\"black\" points=\"179,-371.25 175.5,-361.25 172,-371.25 179,-371.25\"/>\n",
              "</g>\n",
              "<!-- 140153320286256 -->\n",
              "<g id=\"node8\" class=\"node\">\n",
              "<title>140153320286256</title>\n",
              "<polygon fill=\"lightgrey\" stroke=\"black\" points=\"113,-251 0,-251 0,-232 113,-232 113,-251\"/>\n",
              "<text text-anchor=\"middle\" x=\"56.5\" y=\"-239\" font-family=\"monospace\" font-size=\"10.00\">PermuteBackward0</text>\n",
              "</g>\n",
              "<!-- 140153320286256&#45;&gt;140153320289760 -->\n",
              "<g id=\"edge6\" class=\"edge\">\n",
              "<title>140153320286256&#45;&gt;140153320289760</title>\n",
              "<path fill=\"none\" stroke=\"black\" d=\"M65.98,-231.98C74.7,-224.15 87.84,-212.34 98.4,-202.86\"/>\n",
              "<polygon fill=\"black\" stroke=\"black\" points=\"100.75,-205.46 105.85,-196.17 96.07,-200.25 100.75,-205.46\"/>\n",
              "</g>\n",
              "<!-- 140153320289184&#45;&gt;140153320286256 -->\n",
              "<g id=\"edge7\" class=\"edge\">\n",
              "<title>140153320289184&#45;&gt;140153320286256</title>\n",
              "<path fill=\"none\" stroke=\"black\" d=\"M56.5,-286.75C56.5,-279.8 56.5,-269.85 56.5,-261.13\"/>\n",
              "<polygon fill=\"black\" stroke=\"black\" points=\"60,-261.09 56.5,-251.09 53,-261.09 60,-261.09\"/>\n",
              "</g>\n",
              "<!-- 140153320291920 -->\n",
              "<g id=\"node10\" class=\"node\">\n",
              "<title>140153320291920</title>\n",
              "<polygon fill=\"lightgrey\" stroke=\"black\" points=\"107,-361 6,-361 6,-342 107,-342 107,-361\"/>\n",
              "<text text-anchor=\"middle\" x=\"56.5\" y=\"-349\" font-family=\"monospace\" font-size=\"10.00\">AccumulateGrad</text>\n",
              "</g>\n",
              "<!-- 140153320291920&#45;&gt;140153320289184 -->\n",
              "<g id=\"edge9\" class=\"edge\">\n",
              "<title>140153320291920&#45;&gt;140153320289184</title>\n",
              "<path fill=\"none\" stroke=\"black\" d=\"M56.5,-341.75C56.5,-334.8 56.5,-324.85 56.5,-316.13\"/>\n",
              "<polygon fill=\"black\" stroke=\"black\" points=\"60,-316.09 56.5,-306.09 53,-316.09 60,-316.09\"/>\n",
              "</g>\n",
              "<!-- 140153320620432 -->\n",
              "<g id=\"node11\" class=\"node\">\n",
              "<title>140153320620432</title>\n",
              "<polygon fill=\"lightblue\" stroke=\"black\" points=\"86,-428 27,-428 27,-397 86,-397 86,-428\"/>\n",
              "<text text-anchor=\"middle\" x=\"56.5\" y=\"-404\" font-family=\"monospace\" font-size=\"10.00\"> (1, 2)</text>\n",
              "</g>\n",
              "<!-- 140153320620432&#45;&gt;140153320291920 -->\n",
              "<g id=\"edge10\" class=\"edge\">\n",
              "<title>140153320620432&#45;&gt;140153320291920</title>\n",
              "<path fill=\"none\" stroke=\"black\" d=\"M56.5,-396.92C56.5,-389.22 56.5,-379.69 56.5,-371.43\"/>\n",
              "<polygon fill=\"black\" stroke=\"black\" points=\"60,-371.25 56.5,-361.25 53,-371.25 60,-371.25\"/>\n",
              "</g>\n",
              "</g>\n",
              "</svg>\n"
            ],
            "text/plain": [
              "<graphviz.graphs.Digraph at 0x7f77fcdee910>"
            ]
          },
          "execution_count": 41,
          "metadata": {},
          "output_type": "execute_result"
        }
      ],
      "source": [
        "a = torch.tensor([ [1, 2] ], dtype=float, requires_grad=True)\n",
        "b = torch.tensor([ [3, 4] ], dtype=float, requires_grad=True)\n",
        "\n",
        "d = (a ** 2)\n",
        "c = (a + b).T\n",
        "\n",
        "e = d @ c\n",
        "e = torch.maximum(e, torch.zeros_like(e))\n",
        "\n",
        "f = e ** 3\n",
        "\n",
        "torchviz.make_dot(f)"
      ]
    },
    {
      "cell_type": "markdown",
      "metadata": {
        "id": "NnlT4iv_FgKH"
      },
      "source": [
        "#### Computing Gradients"
      ]
    },
    {
      "cell_type": "markdown",
      "metadata": {},
      "source": [
        "Scenario: 2-Layer MLP with ReLU activation for learning floating-point subtraction\n",
        "\n",
        "- Data: $X \\in \\mathbb{R}^{2\\times m}, Y_{true} \\in \\mathbb{R}^{1\\times m}$\n",
        "\n",
        "- Forward Pass: \\\\\n",
        "  \n",
        "  $$W_1 \\in \\mathbb{R}^{2\\times2}, W_2 \\in \\mathbb{R}^{1\\times2}, b_1 \\in \\mathbb{R}^{2\\times1}, b_2 \\in \\mathbb{R}$$\n",
        "\n",
        "\n",
        "  1. $$ H_1 = \\text{ReLU}(W_1 X + b) $$\n",
        "  2. $$ Y_{predicted} = W_2 H_1 + b_2 $$\n",
        "\n",
        "- Loss Function: MSE\n",
        "  $$L(W_1, W_2, b_1, b_2) = \\frac{1}{2m}\\sum_{i=1}^{m}(y_{predicted}^{(i)} - y_{true}^{(i)})^2$$\n",
        "  $$\\implies L(W_1, W_2, b_1, b_2) = \\frac{1}{2m} (Y_{predicted} - Y_{true})^\\top(Y_{predicted} - Y_{true})$$\n",
        "\n",
        "- Backward Pass:\n",
        "  - $$\\frac{\\partial L}{\\partial W_2} = \\frac{\\partial L}{\\partial Y_{p}}\\frac{\\partial Y_{p}}{\\partial W_2} = \\frac{1}{m} (Y_p - Y_t) H_1^\\top $$\n",
        "  - $$\\frac{\\partial L}{\\partial b_2} = \\frac{\\partial L}{\\partial Y_{p}}\\frac{\\partial Y_{p}}{\\partial b_2} = \\frac{1}{m} \\sum_{i=1}^{m} (y_p^{(i)} - y_t^{(i)}) $$\n",
        "  - $$\\frac{\\partial L}{\\partial W_1} = \\frac{\\partial L}{\\partial Y_{p}}\\frac{\\partial Y_{p}}{\\partial H_1}\\frac{\\partial H_1}{\\partial W_1} = \\frac{1}{m} ( W_2^\\top (Y_p - Y_t)  \\cdot [H_1 > 0] ) X^\\top $$\n",
        "  - $$\\frac{\\partial L}{\\partial b_1} = \\frac{\\partial L}{\\partial Y_{p}}\\frac{\\partial Y_{p}}{\\partial H_1}\\frac{\\partial H_1}{\\partial b_1} = \\frac{1}{m} \\sum_{i=1}^{m} ( W_2^\\top (Y_p - Y_t)  \\cdot [H_1 > 0] ) ^ {(i)}$$"
      ]
    },
    {
      "cell_type": "code",
      "execution_count": 42,
      "metadata": {},
      "outputs": [],
      "source": [
        "# Define functions for a simple 2 layer feed forward / fully-connected MLP\n",
        "\n",
        "def mlp_init(x_dim, y_dim):\n",
        "    prng = numpy.random.default_rng(seed=20240130)\n",
        "    W1 = prng.uniform(-1, 1, size=(2, x_dim))\n",
        "    W2 = prng.uniform(-1, 1, size=(y_dim, 2))\n",
        "    b1 = numpy.zeros((2, 1))\n",
        "    b2 = numpy.zeros((y_dim, 1))\n",
        "\n",
        "    return W1, W2, b1, b2\n",
        "\n",
        "def mlp_forward(x, W1, W2, b1, b2):\n",
        "    if len(x.shape) < 2: x = x[:, numpy.newaxis].T\n",
        "    h1 = (W1 @ x.T) + b1\n",
        "    h1 = numpy.maximum(h1, 0)\n",
        "    return h1, ((W2 @ h1) + b2).T\n",
        "\n",
        "def mlp_backward(x, y, h, y_pred, W1, W2, b1, b2, lr=0.01, debug=False):\n",
        "    if len(x.shape) < 2: x = x[:, numpy.newaxis].T\n",
        "    if len(y.shape) < 2: y = y[:, numpy.newaxis]\n",
        "    if len(y_pred.shape) < 2: y_pred = y_pred[:, numpy.newaxis]\n",
        "\n",
        "    # compute gradients as per SE\n",
        "    num_pts = x.shape[0]\n",
        "    grad_y_pred = (y_pred - y).T / num_pts\n",
        "\n",
        "    grad_h = W2.T @ grad_y_pred\n",
        "    grad_h[h <= 0] = 0\n",
        "\n",
        "    grad_W1 = grad_h @ x\n",
        "    grad_W2 = grad_y_pred @ h.T\n",
        "    grad_b1 = numpy.sum(grad_h, axis=1, keepdims=True)\n",
        "    grad_b2 = numpy.sum(grad_y_pred, axis=1, keepdims=True)\n",
        "\n",
        "    if debug:\n",
        "        print(\"Gradients:\")\n",
        "        print(\"W2\", grad_W2)\n",
        "        print(\"b2\", grad_b2)\n",
        "        print(\"W1\", grad_W1)\n",
        "        print(\"b1\", grad_b1)\n",
        "\n",
        "    # # update weights\n",
        "    W1 = W1 - lr * grad_W1\n",
        "    W2 = W2 - lr * grad_W2\n",
        "    b1 = b1 - lr * grad_b1\n",
        "    b2 = b2 - lr * grad_b2\n",
        "\n",
        "    return W1, W2, b1, b2"
      ]
    },
    {
      "cell_type": "code",
      "execution_count": 43,
      "metadata": {},
      "outputs": [],
      "source": [
        "prng = numpy.random.default_rng(seed=20240130)\n",
        "X = prng.random(size=(1000, 2))\n",
        "Y = (X[:, 0] - X[:, 1]).reshape(-1, 1)"
      ]
    },
    {
      "cell_type": "code",
      "execution_count": 44,
      "metadata": {},
      "outputs": [
        {
          "name": "stdout",
          "output_type": "stream",
          "text": [
            "W2 [[-0.96556742  0.5608425 ]]\n",
            "b2 [[0.]]\n",
            "W1 [[-0.28613537 -0.97961328]\n",
            " [ 0.67821594 -0.97100856]]\n",
            "b1 [[0.]\n",
            " [0.]]\n"
          ]
        },
        {
          "data": {
            "application/vnd.jupyter.widget-view+json": {
              "model_id": "9c346529fc5f41ac9b1bc85cb3776e58",
              "version_major": 2,
              "version_minor": 0
            },
            "text/plain": [
              "  0%|          | 0/10000 [00:00<?, ?it/s]"
            ]
          },
          "metadata": {},
          "output_type": "display_data"
        },
        {
          "name": "stdout",
          "output_type": "stream",
          "text": [
            "Gradients:\n",
            "W2 [[ 0.         -0.07051224]]\n",
            "b2 [[-0.05439567]]\n",
            "W1 [[ 0.          0.        ]\n",
            " [-0.07764534 -0.01350559]]\n",
            "b1 [[ 0.        ]\n",
            " [-0.12034697]]\n"
          ]
        }
      ],
      "source": [
        "losses = []\n",
        "W1, W2, b1, b2 = mlp_init(X.shape[-1], Y.shape[-1])\n",
        "\n",
        "print(\"W2\", W2)\n",
        "print(\"b2\", b2)\n",
        "print(\"W1\", W1)\n",
        "print(\"b1\", b1)\n",
        "\n",
        "num_epochs = 100\n",
        "batch_size = 10\n",
        "num_batches = len(X) // batch_size\n",
        "\n",
        "with tqdm.tqdm(total = num_epochs * num_batches) as pbar:\n",
        "    for epoch in range(num_epochs):\n",
        "        pbar.set_description(f\"Epoch #{epoch+1}\")\n",
        "\n",
        "        for i in range(num_batches):\n",
        "            start = i * batch_size\n",
        "            end = start + batch_size\n",
        "            x_batch = X[start:end]\n",
        "            y_batch = Y[start:end]\n",
        "\n",
        "            h, y_pred = mlp_forward(x_batch, W1, W2, b1, b2)\n",
        "            loss = 0.5 * numpy.mean((y_pred - y_batch) ** 2)\n",
        "            losses.append(float(loss.squeeze()))\n",
        "            debug = (epoch == 0 and i == 0)\n",
        "            W1, W2, b1, b2 = mlp_backward(x_batch, y_batch, h, y_pred, W1, W2, b1, b2, debug=debug)\n",
        "\n",
        "            pbar.update(1)\n",
        "            pbar.set_postfix(dict(loss=loss))"
      ]
    },
    {
      "cell_type": "code",
      "execution_count": 45,
      "metadata": {},
      "outputs": [
        {
          "data": {
            "text/plain": [
              "[<matplotlib.lines.Line2D at 0x7f77fcdef2d0>]"
            ]
          },
          "execution_count": 45,
          "metadata": {},
          "output_type": "execute_result"
        },
        {
          "data": {
            "image/png": "[encoded data removed]",
            "text/plain": [
              "<Figure size 640x480 with 1 Axes>"
            ]
          },
          "metadata": {},
          "output_type": "display_data"
        }
      ],
      "source": [
        "pyplot.plot(losses)"
      ]
    },
    {
      "cell_type": "code",
      "execution_count": 46,
      "metadata": {},
      "outputs": [
        {
          "data": {
            "text/plain": [
              "array(0.27104206)"
            ]
          },
          "execution_count": 46,
          "metadata": {},
          "output_type": "execute_result"
        }
      ],
      "source": [
        "mlp_forward(numpy.array([ 0.69, 0.42 ]), W1, W2, b1, b2)[-1].squeeze()"
      ]
    },
    {
      "cell_type": "markdown",
      "metadata": {},
      "source": [
        "##### Simplification with PyTorch autograd"
      ]
    },
    {
      "cell_type": "code",
      "execution_count": 47,
      "metadata": {},
      "outputs": [
        {
          "data": {
            "text/plain": [
              "<torch._C.Generator at 0x7f78cc09ba90>"
            ]
          },
          "execution_count": 47,
          "metadata": {},
          "output_type": "execute_result"
        }
      ],
      "source": [
        "torch.manual_seed(20240130)"
      ]
    },
    {
      "cell_type": "code",
      "execution_count": 48,
      "metadata": {},
      "outputs": [],
      "source": [
        "X = torch.as_tensor(X)\n",
        "Y = torch.as_tensor(Y)"
      ]
    },
    {
      "cell_type": "code",
      "execution_count": 49,
      "metadata": {},
      "outputs": [],
      "source": [
        "def mlp_init_pt(x_dim, y_dim):\n",
        "    prng = numpy.random.default_rng(seed=20240130)\n",
        "    W1 = prng.uniform(-1, 1, size=(2, x_dim))\n",
        "    W2 = prng.uniform(-1, 1, size=(y_dim, 2))\n",
        "    W1 = torch.tensor(W1, requires_grad=True)\n",
        "    W2 = torch.tensor(W2, requires_grad=True)\n",
        "    b1 = torch.zeros((2, 1), requires_grad=True)\n",
        "    b2 = torch.zeros((y_dim, 1), requires_grad=True)\n",
        "\n",
        "    return W1, W2, b1, b2\n",
        "\n",
        "def mlp_forward_pt(x, W1, W2, b1, b2):\n",
        "    if len(x.shape) < 2: x = x[:, None].T\n",
        "    h1 = (W1 @ x.T) + b1\n",
        "    h1 = torch.maximum(h1, torch.zeros_like(h1))\n",
        "    return h1, ((W2 @ h1) + b2).T\n",
        "\n",
        "def mlp_backward_pt(loss, W1, W2, b1, b2, lr=0.01, debug=False):\n",
        "    loss.backward()\n",
        "\n",
        "    if debug:\n",
        "        print(\"Gradients:\")\n",
        "        print(\"W2\", W2.grad)\n",
        "        print(\"b2\", b2.grad)\n",
        "        print(\"W1\", W1.grad)\n",
        "        print(\"b1\", b1.grad)\n",
        "\n",
        "    # update weights\n",
        "    W1.data = W1 - lr * W1.grad\n",
        "    W2.data = W2 - lr * W2.grad\n",
        "    b1.data = b1 - lr * b1.grad\n",
        "    b2.data = b2 - lr * b2.grad\n",
        "\n",
        "    W1.grad = W2.grad = b1.grad = b2.grad = None\n",
        "\n",
        "    return W1, W2, b1, b2"
      ]
    },
    {
      "cell_type": "code",
      "execution_count": 50,
      "metadata": {},
      "outputs": [
        {
          "name": "stdout",
          "output_type": "stream",
          "text": [
            "W2 tensor([[-0.9656,  0.5608]], dtype=torch.float64, requires_grad=True)\n",
            "b2 tensor([[0.]], requires_grad=True)\n",
            "W1 tensor([[-0.2861, -0.9796],\n",
            "        [ 0.6782, -0.9710]], dtype=torch.float64, requires_grad=True)\n",
            "b1 tensor([[0.],\n",
            "        [0.]], requires_grad=True)\n"
          ]
        },
        {
          "data": {
            "application/vnd.jupyter.widget-view+json": {
              "model_id": "488742d1b186411583c05c77ae81c37c",
              "version_major": 2,
              "version_minor": 0
            },
            "text/plain": [
              "  0%|          | 0/10000 [00:00<?, ?it/s]"
            ]
          },
          "metadata": {},
          "output_type": "display_data"
        },
        {
          "name": "stdout",
          "output_type": "stream",
          "text": [
            "Gradients:\n",
            "W2 tensor([[ 0.0000, -0.0705]], dtype=torch.float64)\n",
            "b2 tensor([[-0.0544]])\n",
            "W1 tensor([[ 0.0000,  0.0000],\n",
            "        [-0.0776, -0.0135]], dtype=torch.float64)\n",
            "b1 tensor([[ 0.0000],\n",
            "        [-0.1203]])\n"
          ]
        }
      ],
      "source": [
        "losses = []\n",
        "W1, W2, b1, b2 = mlp_init_pt(X.shape[-1], Y.shape[-1])\n",
        "\n",
        "print(\"W2\", W2)\n",
        "print(\"b2\", b2)\n",
        "print(\"W1\", W1)\n",
        "print(\"b1\", b1)\n",
        "\n",
        "num_epochs = 100\n",
        "batch_size = 10\n",
        "num_batches = len(X) // batch_size\n",
        "\n",
        "with tqdm.tqdm(total = num_epochs * num_batches) as pbar:\n",
        "    for epoch in range(num_epochs):\n",
        "        pbar.set_description(f\"Epoch #{epoch+1}\")\n",
        "\n",
        "        for i in range(num_batches):\n",
        "            start = i * batch_size\n",
        "            end = start + batch_size\n",
        "            x_batch = X[start:end]\n",
        "            y_batch = Y[start:end]\n",
        "\n",
        "            h, y_pred = mlp_forward_pt(x_batch, W1, W2, b1, b2)\n",
        "            loss = 0.5 * torch.mean((y_pred - y_batch) ** 2)\n",
        "\n",
        "            losses.append(loss.squeeze().item())\n",
        "            debug = (epoch==0 and i == 0)\n",
        "            W1, W2, b1, b2 = mlp_backward_pt(loss, W1, W2, b1, b2, debug=debug)\n",
        "\n",
        "            pbar.update(1)\n",
        "            pbar.set_postfix(dict(loss=loss.item()))"
      ]
    },
    {
      "cell_type": "code",
      "execution_count": 51,
      "metadata": {},
      "outputs": [
        {
          "data": {
            "image/svg+xml": [
              "<?xml version=\"1.0\" encoding=\"UTF-8\" standalone=\"no\"?>\n",
              "<!DOCTYPE svg PUBLIC \"-//W3C//DTD SVG 1.1//EN\"\n",
              " \"http://www.w3.org/Graphics/SVG/1.1/DTD/svg11.dtd\">\n",
              "<!-- Generated by graphviz version 2.50.0 (0)\n",
              " -->\n",
              "<!-- Pages: 1 -->\n",
              "<svg width=\"341pt\" height=\"747pt\"\n",
              " viewBox=\"0.00 0.00 341.00 747.00\" xmlns=\"http://www.w3.org/2000/svg\" xmlns:xlink=\"http://www.w3.org/1999/xlink\">\n",
              "<g id=\"graph0\" class=\"graph\" transform=\"scale(1 1) rotate(0) translate(4 743)\">\n",
              "<polygon fill=\"white\" stroke=\"transparent\" points=\"-4,4 -4,-743 337,-743 337,4 -4,4\"/>\n",
              "<!-- 140153174143728 -->\n",
              "<g id=\"node1\" class=\"node\">\n",
              "<title>140153174143728</title>\n",
              "<polygon fill=\"#caff70\" stroke=\"black\" points=\"254.5,-31 200.5,-31 200.5,0 254.5,0 254.5,-31\"/>\n",
              "<text text-anchor=\"middle\" x=\"227.5\" y=\"-7\" font-family=\"monospace\" font-size=\"10.00\"> ()</text>\n",
              "</g>\n",
              "<!-- 140153175634656 -->\n",
              "<g id=\"node2\" class=\"node\">\n",
              "<title>140153175634656</title>\n",
              "<polygon fill=\"lightgrey\" stroke=\"black\" points=\"272,-86 183,-86 183,-67 272,-67 272,-86\"/>\n",
              "<text text-anchor=\"middle\" x=\"227.5\" y=\"-74\" font-family=\"monospace\" font-size=\"10.00\">MulBackward0</text>\n",
              "</g>\n",
              "<!-- 140153175634656&#45;&gt;140153174143728 -->\n",
              "<g id=\"edge18\" class=\"edge\">\n",
              "<title>140153175634656&#45;&gt;140153174143728</title>\n",
              "<path fill=\"none\" stroke=\"black\" d=\"M227.5,-66.79C227.5,-60.07 227.5,-50.4 227.5,-41.34\"/>\n",
              "<polygon fill=\"black\" stroke=\"black\" points=\"231,-41.19 227.5,-31.19 224,-41.19 231,-41.19\"/>\n",
              "</g>\n",
              "<!-- 140153175635280 -->\n",
              "<g id=\"node3\" class=\"node\">\n",
              "<title>140153175635280</title>\n",
              "<polygon fill=\"lightgrey\" stroke=\"black\" points=\"275,-141 180,-141 180,-122 275,-122 275,-141\"/>\n",
              "<text text-anchor=\"middle\" x=\"227.5\" y=\"-129\" font-family=\"monospace\" font-size=\"10.00\">MeanBackward0</text>\n",
              "</g>\n",
              "<!-- 140153175635280&#45;&gt;140153175634656 -->\n",
              "<g id=\"edge1\" class=\"edge\">\n",
              "<title>140153175635280&#45;&gt;140153175634656</title>\n",
              "<path fill=\"none\" stroke=\"black\" d=\"M227.5,-121.75C227.5,-114.8 227.5,-104.85 227.5,-96.13\"/>\n",
              "<polygon fill=\"black\" stroke=\"black\" points=\"231,-96.09 227.5,-86.09 224,-96.09 231,-96.09\"/>\n",
              "</g>\n",
              "<!-- 140153175635520 -->\n",
              "<g id=\"node4\" class=\"node\">\n",
              "<title>140153175635520</title>\n",
              "<polygon fill=\"lightgrey\" stroke=\"black\" points=\"272,-196 183,-196 183,-177 272,-177 272,-196\"/>\n",
              "<text text-anchor=\"middle\" x=\"227.5\" y=\"-184\" font-family=\"monospace\" font-size=\"10.00\">PowBackward0</text>\n",
              "</g>\n",
              "<!-- 140153175635520&#45;&gt;140153175635280 -->\n",
              "<g id=\"edge2\" class=\"edge\">\n",
              "<title>140153175635520&#45;&gt;140153175635280</title>\n",
              "<path fill=\"none\" stroke=\"black\" d=\"M227.5,-176.75C227.5,-169.8 227.5,-159.85 227.5,-151.13\"/>\n",
              "<polygon fill=\"black\" stroke=\"black\" points=\"231,-151.09 227.5,-141.09 224,-151.09 231,-151.09\"/>\n",
              "</g>\n",
              "<!-- 140153175634512 -->\n",
              "<g id=\"node5\" class=\"node\">\n",
              "<title>140153175634512</title>\n",
              "<polygon fill=\"lightgrey\" stroke=\"black\" points=\"272,-251 183,-251 183,-232 272,-232 272,-251\"/>\n",
              "<text text-anchor=\"middle\" x=\"227.5\" y=\"-239\" font-family=\"monospace\" font-size=\"10.00\">SubBackward0</text>\n",
              "</g>\n",
              "<!-- 140153175634512&#45;&gt;140153175635520 -->\n",
              "<g id=\"edge3\" class=\"edge\">\n",
              "<title>140153175634512&#45;&gt;140153175635520</title>\n",
              "<path fill=\"none\" stroke=\"black\" d=\"M227.5,-231.75C227.5,-224.8 227.5,-214.85 227.5,-206.13\"/>\n",
              "<polygon fill=\"black\" stroke=\"black\" points=\"231,-206.09 227.5,-196.09 224,-206.09 231,-206.09\"/>\n",
              "</g>\n",
              "<!-- 140153175634272 -->\n",
              "<g id=\"node6\" class=\"node\">\n",
              "<title>140153175634272</title>\n",
              "<polygon fill=\"lightgrey\" stroke=\"black\" points=\"284,-306 171,-306 171,-287 284,-287 284,-306\"/>\n",
              "<text text-anchor=\"middle\" x=\"227.5\" y=\"-294\" font-family=\"monospace\" font-size=\"10.00\">PermuteBackward0</text>\n",
              "</g>\n",
              "<!-- 140153175634272&#45;&gt;140153175634512 -->\n",
              "<g id=\"edge4\" class=\"edge\">\n",
              "<title>140153175634272&#45;&gt;140153175634512</title>\n",
              "<path fill=\"none\" stroke=\"black\" d=\"M227.5,-286.75C227.5,-279.8 227.5,-269.85 227.5,-261.13\"/>\n",
              "<polygon fill=\"black\" stroke=\"black\" points=\"231,-261.09 227.5,-251.09 224,-261.09 231,-261.09\"/>\n",
              "</g>\n",
              "<!-- 140153175632832 -->\n",
              "<g id=\"node7\" class=\"node\">\n",
              "<title>140153175632832</title>\n",
              "<polygon fill=\"lightgrey\" stroke=\"black\" points=\"272,-361 183,-361 183,-342 272,-342 272,-361\"/>\n",
              "<text text-anchor=\"middle\" x=\"227.5\" y=\"-349\" font-family=\"monospace\" font-size=\"10.00\">AddBackward0</text>\n",
              "</g>\n",
              "<!-- 140153175632832&#45;&gt;140153175634272 -->\n",
              "<g id=\"edge5\" class=\"edge\">\n",
              "<title>140153175632832&#45;&gt;140153175634272</title>\n",
              "<path fill=\"none\" stroke=\"black\" d=\"M227.5,-341.75C227.5,-334.8 227.5,-324.85 227.5,-316.13\"/>\n",
              "<polygon fill=\"black\" stroke=\"black\" points=\"231,-316.09 227.5,-306.09 224,-316.09 231,-316.09\"/>\n",
              "</g>\n",
              "<!-- 140153175631680 -->\n",
              "<g id=\"node8\" class=\"node\">\n",
              "<title>140153175631680</title>\n",
              "<polygon fill=\"lightgrey\" stroke=\"black\" points=\"214,-416 131,-416 131,-397 214,-397 214,-416\"/>\n",
              "<text text-anchor=\"middle\" x=\"172.5\" y=\"-404\" font-family=\"monospace\" font-size=\"10.00\">MmBackward0</text>\n",
              "</g>\n",
              "<!-- 140153175631680&#45;&gt;140153175632832 -->\n",
              "<g id=\"edge6\" class=\"edge\">\n",
              "<title>140153175631680&#45;&gt;140153175632832</title>\n",
              "<path fill=\"none\" stroke=\"black\" d=\"M181.58,-396.75C189.59,-389.03 201.46,-377.6 211.12,-368.28\"/>\n",
              "<polygon fill=\"black\" stroke=\"black\" points=\"213.81,-370.55 218.59,-361.09 208.96,-365.51 213.81,-370.55\"/>\n",
              "</g>\n",
              "<!-- 140153175632688 -->\n",
              "<g id=\"node9\" class=\"node\">\n",
              "<title>140153175632688</title>\n",
              "<polygon fill=\"lightgrey\" stroke=\"black\" points=\"101,-477 0,-477 0,-458 101,-458 101,-477\"/>\n",
              "<text text-anchor=\"middle\" x=\"50.5\" y=\"-465\" font-family=\"monospace\" font-size=\"10.00\">AccumulateGrad</text>\n",
              "</g>\n",
              "<!-- 140153175632688&#45;&gt;140153175631680 -->\n",
              "<g id=\"edge7\" class=\"edge\">\n",
              "<title>140153175632688&#45;&gt;140153175631680</title>\n",
              "<path fill=\"none\" stroke=\"black\" d=\"M68.24,-457.92C88.57,-448.09 122.11,-431.87 145.64,-420.49\"/>\n",
              "<polygon fill=\"black\" stroke=\"black\" points=\"147.26,-423.59 154.74,-416.09 144.21,-417.29 147.26,-423.59\"/>\n",
              "</g>\n",
              "<!-- 140153173620160 -->\n",
              "<g id=\"node10\" class=\"node\">\n",
              "<title>140153173620160</title>\n",
              "<polygon fill=\"lightblue\" stroke=\"black\" points=\"80,-550 21,-550 21,-519 80,-519 80,-550\"/>\n",
              "<text text-anchor=\"middle\" x=\"50.5\" y=\"-526\" font-family=\"monospace\" font-size=\"10.00\"> (1, 2)</text>\n",
              "</g>\n",
              "<!-- 140153173620160&#45;&gt;140153175632688 -->\n",
              "<g id=\"edge8\" class=\"edge\">\n",
              "<title>140153173620160&#45;&gt;140153175632688</title>\n",
              "<path fill=\"none\" stroke=\"black\" d=\"M50.5,-518.75C50.5,-509.39 50.5,-497.19 50.5,-487.16\"/>\n",
              "<polygon fill=\"black\" stroke=\"black\" points=\"54,-487.02 50.5,-477.02 47,-487.02 54,-487.02\"/>\n",
              "</g>\n",
              "<!-- 140153175632208 -->\n",
              "<g id=\"node11\" class=\"node\">\n",
              "<title>140153175632208</title>\n",
              "<polygon fill=\"lightgrey\" stroke=\"black\" points=\"232,-477 119,-477 119,-458 232,-458 232,-477\"/>\n",
              "<text text-anchor=\"middle\" x=\"175.5\" y=\"-465\" font-family=\"monospace\" font-size=\"10.00\">MaximumBackward0</text>\n",
              "</g>\n",
              "<!-- 140153175632208&#45;&gt;140153175631680 -->\n",
              "<g id=\"edge9\" class=\"edge\">\n",
              "<title>140153175632208&#45;&gt;140153175631680</title>\n",
              "<path fill=\"none\" stroke=\"black\" d=\"M175.06,-457.79C174.64,-449.6 174,-437.06 173.47,-426.55\"/>\n",
              "<polygon fill=\"black\" stroke=\"black\" points=\"176.95,-426.05 172.94,-416.24 169.96,-426.41 176.95,-426.05\"/>\n",
              "</g>\n",
              "<!-- 140153175634080 -->\n",
              "<g id=\"node12\" class=\"node\">\n",
              "<title>140153175634080</title>\n",
              "<polygon fill=\"lightgrey\" stroke=\"black\" points=\"220,-544 131,-544 131,-525 220,-525 220,-544\"/>\n",
              "<text text-anchor=\"middle\" x=\"175.5\" y=\"-532\" font-family=\"monospace\" font-size=\"10.00\">AddBackward0</text>\n",
              "</g>\n",
              "<!-- 140153175634080&#45;&gt;140153175632208 -->\n",
              "<g id=\"edge10\" class=\"edge\">\n",
              "<title>140153175634080&#45;&gt;140153175632208</title>\n",
              "<path fill=\"none\" stroke=\"black\" d=\"M175.5,-524.73C175.5,-515.18 175.5,-499.62 175.5,-487.28\"/>\n",
              "<polygon fill=\"black\" stroke=\"black\" points=\"179,-487.13 175.5,-477.13 172,-487.13 179,-487.13\"/>\n",
              "</g>\n",
              "<!-- 140153175622128 -->\n",
              "<g id=\"node13\" class=\"node\">\n",
              "<title>140153175622128</title>\n",
              "<polygon fill=\"lightgrey\" stroke=\"black\" points=\"162,-605 79,-605 79,-586 162,-586 162,-605\"/>\n",
              "<text text-anchor=\"middle\" x=\"120.5\" y=\"-593\" font-family=\"monospace\" font-size=\"10.00\">MmBackward0</text>\n",
              "</g>\n",
              "<!-- 140153175622128&#45;&gt;140153175634080 -->\n",
              "<g id=\"edge11\" class=\"edge\">\n",
              "<title>140153175622128&#45;&gt;140153175634080</title>\n",
              "<path fill=\"none\" stroke=\"black\" d=\"M128.62,-585.79C136.98,-576.82 150.22,-562.62 160.5,-551.59\"/>\n",
              "<polygon fill=\"black\" stroke=\"black\" points=\"163.09,-553.94 167.35,-544.24 157.97,-549.17 163.09,-553.94\"/>\n",
              "</g>\n",
              "<!-- 140153175631824 -->\n",
              "<g id=\"node14\" class=\"node\">\n",
              "<title>140153175631824</title>\n",
              "<polygon fill=\"lightgrey\" stroke=\"black\" points=\"171,-666 70,-666 70,-647 171,-647 171,-666\"/>\n",
              "<text text-anchor=\"middle\" x=\"120.5\" y=\"-654\" font-family=\"monospace\" font-size=\"10.00\">AccumulateGrad</text>\n",
              "</g>\n",
              "<!-- 140153175631824&#45;&gt;140153175622128 -->\n",
              "<g id=\"edge12\" class=\"edge\">\n",
              "<title>140153175631824&#45;&gt;140153175622128</title>\n",
              "<path fill=\"none\" stroke=\"black\" d=\"M120.5,-646.79C120.5,-638.6 120.5,-626.06 120.5,-615.55\"/>\n",
              "<polygon fill=\"black\" stroke=\"black\" points=\"124,-615.24 120.5,-605.24 117,-615.24 124,-615.24\"/>\n",
              "</g>\n",
              "<!-- 140153173620000 -->\n",
              "<g id=\"node15\" class=\"node\">\n",
              "<title>140153173620000</title>\n",
              "<polygon fill=\"lightblue\" stroke=\"black\" points=\"150,-739 91,-739 91,-708 150,-708 150,-739\"/>\n",
              "<text text-anchor=\"middle\" x=\"120.5\" y=\"-715\" font-family=\"monospace\" font-size=\"10.00\"> (2, 2)</text>\n",
              "</g>\n",
              "<!-- 140153173620000&#45;&gt;140153175631824 -->\n",
              "<g id=\"edge13\" class=\"edge\">\n",
              "<title>140153173620000&#45;&gt;140153175631824</title>\n",
              "<path fill=\"none\" stroke=\"black\" d=\"M120.5,-707.75C120.5,-698.39 120.5,-686.19 120.5,-676.16\"/>\n",
              "<polygon fill=\"black\" stroke=\"black\" points=\"124,-676.02 120.5,-666.02 117,-676.02 124,-676.02\"/>\n",
              "</g>\n",
              "<!-- 140153175632880 -->\n",
              "<g id=\"node16\" class=\"node\">\n",
              "<title>140153175632880</title>\n",
              "<polygon fill=\"lightgrey\" stroke=\"black\" points=\"281,-605 180,-605 180,-586 281,-586 281,-605\"/>\n",
              "<text text-anchor=\"middle\" x=\"230.5\" y=\"-593\" font-family=\"monospace\" font-size=\"10.00\">AccumulateGrad</text>\n",
              "</g>\n",
              "<!-- 140153175632880&#45;&gt;140153175634080 -->\n",
              "<g id=\"edge14\" class=\"edge\">\n",
              "<title>140153175632880&#45;&gt;140153175634080</title>\n",
              "<path fill=\"none\" stroke=\"black\" d=\"M222.38,-585.79C214.02,-576.82 200.78,-562.62 190.5,-551.59\"/>\n",
              "<polygon fill=\"black\" stroke=\"black\" points=\"193.03,-549.17 183.65,-544.24 187.91,-553.94 193.03,-549.17\"/>\n",
              "</g>\n",
              "<!-- 140153173620400 -->\n",
              "<g id=\"node17\" class=\"node\">\n",
              "<title>140153173620400</title>\n",
              "<polygon fill=\"lightblue\" stroke=\"black\" points=\"260,-672 201,-672 201,-641 260,-641 260,-672\"/>\n",
              "<text text-anchor=\"middle\" x=\"230.5\" y=\"-648\" font-family=\"monospace\" font-size=\"10.00\"> (2, 1)</text>\n",
              "</g>\n",
              "<!-- 140153173620400&#45;&gt;140153175632880 -->\n",
              "<g id=\"edge15\" class=\"edge\">\n",
              "<title>140153173620400&#45;&gt;140153175632880</title>\n",
              "<path fill=\"none\" stroke=\"black\" d=\"M230.5,-640.92C230.5,-633.22 230.5,-623.69 230.5,-615.43\"/>\n",
              "<polygon fill=\"black\" stroke=\"black\" points=\"234,-615.25 230.5,-605.25 227,-615.25 234,-615.25\"/>\n",
              "</g>\n",
              "<!-- 140153175636096 -->\n",
              "<g id=\"node18\" class=\"node\">\n",
              "<title>140153175636096</title>\n",
              "<polygon fill=\"lightgrey\" stroke=\"black\" points=\"333,-416 232,-416 232,-397 333,-397 333,-416\"/>\n",
              "<text text-anchor=\"middle\" x=\"282.5\" y=\"-404\" font-family=\"monospace\" font-size=\"10.00\">AccumulateGrad</text>\n",
              "</g>\n",
              "<!-- 140153175636096&#45;&gt;140153175632832 -->\n",
              "<g id=\"edge16\" class=\"edge\">\n",
              "<title>140153175636096&#45;&gt;140153175632832</title>\n",
              "<path fill=\"none\" stroke=\"black\" d=\"M273.42,-396.75C265.41,-389.03 253.54,-377.6 243.88,-368.28\"/>\n",
              "<polygon fill=\"black\" stroke=\"black\" points=\"246.04,-365.51 236.41,-361.09 241.19,-370.55 246.04,-365.51\"/>\n",
              "</g>\n",
              "<!-- 140153173620240 -->\n",
              "<g id=\"node19\" class=\"node\">\n",
              "<title>140153173620240</title>\n",
              "<polygon fill=\"lightblue\" stroke=\"black\" points=\"312,-483 253,-483 253,-452 312,-452 312,-483\"/>\n",
              "<text text-anchor=\"middle\" x=\"282.5\" y=\"-459\" font-family=\"monospace\" font-size=\"10.00\"> (1, 1)</text>\n",
              "</g>\n",
              "<!-- 140153173620240&#45;&gt;140153175636096 -->\n",
              "<g id=\"edge17\" class=\"edge\">\n",
              "<title>140153173620240&#45;&gt;140153175636096</title>\n",
              "<path fill=\"none\" stroke=\"black\" d=\"M282.5,-451.92C282.5,-444.22 282.5,-434.69 282.5,-426.43\"/>\n",
              "<polygon fill=\"black\" stroke=\"black\" points=\"286,-426.25 282.5,-416.25 279,-426.25 286,-426.25\"/>\n",
              "</g>\n",
              "</g>\n",
              "</svg>\n"
            ],
            "text/plain": [
              "<graphviz.graphs.Digraph at 0x7f78705b9fd0>"
            ]
          },
          "execution_count": 51,
          "metadata": {},
          "output_type": "execute_result"
        }
      ],
      "source": [
        "torchviz.make_dot(loss)"
      ]
    },
    {
      "cell_type": "code",
      "execution_count": 52,
      "metadata": {},
      "outputs": [
        {
          "data": {
            "text/plain": [
              "[<matplotlib.lines.Line2D at 0x7f77f434d790>]"
            ]
          },
          "execution_count": 52,
          "metadata": {},
          "output_type": "execute_result"
        },
        {
          "data": {
            "image/png": "[encoded data removed]",
            "text/plain": [
              "<Figure size 640x480 with 1 Axes>"
            ]
          },
          "metadata": {},
          "output_type": "display_data"
        }
      ],
      "source": [
        "pyplot.plot(losses)"
      ]
    },
    {
      "cell_type": "code",
      "execution_count": 53,
      "metadata": {},
      "outputs": [
        {
          "data": {
            "text/plain": [
              "tensor([[0.2710]], dtype=torch.float64, grad_fn=<PermuteBackward0>)"
            ]
          },
          "execution_count": 53,
          "metadata": {},
          "output_type": "execute_result"
        }
      ],
      "source": [
        "mlp_forward_pt(torch.tensor([ 0.69, 0.42 ], dtype=torch.float64), W1, W2, b1, b2)[-1]"
      ]
    },
    {
      "cell_type": "markdown",
      "metadata": {},
      "source": [
        "#### Inference Methods"
      ]
    },
    {
      "cell_type": "markdown",
      "metadata": {},
      "source": [
        "- `torch.Tensor.detach()` and `torch.no_grad()`"
      ]
    },
    {
      "cell_type": "code",
      "execution_count": 54,
      "metadata": {},
      "outputs": [],
      "source": [
        "a = torch.rand((2, 2), requires_grad=True)\n",
        "b = torch.rand((2, 2), requires_grad=True)"
      ]
    },
    {
      "cell_type": "code",
      "execution_count": 55,
      "metadata": {},
      "outputs": [
        {
          "data": {
            "image/svg+xml": [
              "<?xml version=\"1.0\" encoding=\"UTF-8\" standalone=\"no\"?>\n",
              "<!DOCTYPE svg PUBLIC \"-//W3C//DTD SVG 1.1//EN\"\n",
              " \"http://www.w3.org/Graphics/SVG/1.1/DTD/svg11.dtd\">\n",
              "<!-- Generated by graphviz version 2.50.0 (0)\n",
              " -->\n",
              "<!-- Pages: 1 -->\n",
              "<svg width=\"228pt\" height=\"271pt\"\n",
              " viewBox=\"0.00 0.00 228.00 271.00\" xmlns=\"http://www.w3.org/2000/svg\" xmlns:xlink=\"http://www.w3.org/1999/xlink\">\n",
              "<g id=\"graph0\" class=\"graph\" transform=\"scale(1 1) rotate(0) translate(4 267)\">\n",
              "<polygon fill=\"white\" stroke=\"transparent\" points=\"-4,4 -4,-267 224,-267 224,4 -4,4\"/>\n",
              "<!-- 140153175293568 -->\n",
              "<g id=\"node1\" class=\"node\">\n",
              "<title>140153175293568</title>\n",
              "<polygon fill=\"#caff70\" stroke=\"black\" points=\"133,-31 74,-31 74,0 133,0 133,-31\"/>\n",
              "<text text-anchor=\"middle\" x=\"103.5\" y=\"-7\" font-family=\"monospace\" font-size=\"10.00\"> (2, 2)</text>\n",
              "</g>\n",
              "<!-- 140153173708752 -->\n",
              "<g id=\"node2\" class=\"node\">\n",
              "<title>140153173708752</title>\n",
              "<polygon fill=\"lightgrey\" stroke=\"black\" points=\"148,-86 59,-86 59,-67 148,-67 148,-86\"/>\n",
              "<text text-anchor=\"middle\" x=\"103.5\" y=\"-74\" font-family=\"monospace\" font-size=\"10.00\">AddBackward0</text>\n",
              "</g>\n",
              "<!-- 140153173708752&#45;&gt;140153175293568 -->\n",
              "<g id=\"edge8\" class=\"edge\">\n",
              "<title>140153173708752&#45;&gt;140153175293568</title>\n",
              "<path fill=\"none\" stroke=\"black\" d=\"M103.5,-66.79C103.5,-60.07 103.5,-50.4 103.5,-41.34\"/>\n",
              "<polygon fill=\"black\" stroke=\"black\" points=\"107,-41.19 103.5,-31.19 100,-41.19 107,-41.19\"/>\n",
              "</g>\n",
              "<!-- 140153173717200 -->\n",
              "<g id=\"node3\" class=\"node\">\n",
              "<title>140153173717200</title>\n",
              "<polygon fill=\"lightgrey\" stroke=\"black\" points=\"202,-141 113,-141 113,-122 202,-122 202,-141\"/>\n",
              "<text text-anchor=\"middle\" x=\"157.5\" y=\"-129\" font-family=\"monospace\" font-size=\"10.00\">AddBackward0</text>\n",
              "</g>\n",
              "<!-- 140153173717200&#45;&gt;140153173708752 -->\n",
              "<g id=\"edge1\" class=\"edge\">\n",
              "<title>140153173717200&#45;&gt;140153173708752</title>\n",
              "<path fill=\"none\" stroke=\"black\" d=\"M148.58,-121.75C140.72,-114.03 129.07,-102.6 119.58,-93.28\"/>\n",
              "<polygon fill=\"black\" stroke=\"black\" points=\"121.84,-90.6 112.25,-86.09 116.94,-95.59 121.84,-90.6\"/>\n",
              "</g>\n",
              "<!-- 140153173712112 -->\n",
              "<g id=\"node4\" class=\"node\">\n",
              "<title>140153173712112</title>\n",
              "<polygon fill=\"lightgrey\" stroke=\"black\" points=\"101,-196 0,-196 0,-177 101,-177 101,-196\"/>\n",
              "<text text-anchor=\"middle\" x=\"50.5\" y=\"-184\" font-family=\"monospace\" font-size=\"10.00\">AccumulateGrad</text>\n",
              "</g>\n",
              "<!-- 140153173712112&#45;&gt;140153173717200 -->\n",
              "<g id=\"edge2\" class=\"edge\">\n",
              "<title>140153173712112&#45;&gt;140153173717200</title>\n",
              "<path fill=\"none\" stroke=\"black\" d=\"M67.69,-176.98C84.75,-168.54 111.13,-155.47 130.9,-145.68\"/>\n",
              "<polygon fill=\"black\" stroke=\"black\" points=\"132.59,-148.75 140,-141.17 129.48,-142.47 132.59,-148.75\"/>\n",
              "</g>\n",
              "<!-- 140153173711248 -->\n",
              "<g id=\"node8\" class=\"node\">\n",
              "<title>140153173711248</title>\n",
              "<polygon fill=\"lightgrey\" stroke=\"black\" points=\"95,-141 6,-141 6,-122 95,-122 95,-141\"/>\n",
              "<text text-anchor=\"middle\" x=\"50.5\" y=\"-129\" font-family=\"monospace\" font-size=\"10.00\">PowBackward0</text>\n",
              "</g>\n",
              "<!-- 140153173712112&#45;&gt;140153173711248 -->\n",
              "<g id=\"edge7\" class=\"edge\">\n",
              "<title>140153173712112&#45;&gt;140153173711248</title>\n",
              "<path fill=\"none\" stroke=\"black\" d=\"M50.5,-176.75C50.5,-169.8 50.5,-159.85 50.5,-151.13\"/>\n",
              "<polygon fill=\"black\" stroke=\"black\" points=\"54,-151.09 50.5,-141.09 47,-151.09 54,-151.09\"/>\n",
              "</g>\n",
              "<!-- 140153174216208 -->\n",
              "<g id=\"node5\" class=\"node\">\n",
              "<title>140153174216208</title>\n",
              "<polygon fill=\"lightblue\" stroke=\"black\" points=\"80,-263 21,-263 21,-232 80,-232 80,-263\"/>\n",
              "<text text-anchor=\"middle\" x=\"50.5\" y=\"-239\" font-family=\"monospace\" font-size=\"10.00\"> (2, 2)</text>\n",
              "</g>\n",
              "<!-- 140153174216208&#45;&gt;140153173712112 -->\n",
              "<g id=\"edge3\" class=\"edge\">\n",
              "<title>140153174216208&#45;&gt;140153173712112</title>\n",
              "<path fill=\"none\" stroke=\"black\" d=\"M50.5,-231.92C50.5,-224.22 50.5,-214.69 50.5,-206.43\"/>\n",
              "<polygon fill=\"black\" stroke=\"black\" points=\"54,-206.25 50.5,-196.25 47,-206.25 54,-206.25\"/>\n",
              "</g>\n",
              "<!-- 140153173715232 -->\n",
              "<g id=\"node6\" class=\"node\">\n",
              "<title>140153173715232</title>\n",
              "<polygon fill=\"lightgrey\" stroke=\"black\" points=\"220,-196 119,-196 119,-177 220,-177 220,-196\"/>\n",
              "<text text-anchor=\"middle\" x=\"169.5\" y=\"-184\" font-family=\"monospace\" font-size=\"10.00\">AccumulateGrad</text>\n",
              "</g>\n",
              "<!-- 140153173715232&#45;&gt;140153173717200 -->\n",
              "<g id=\"edge4\" class=\"edge\">\n",
              "<title>140153173715232&#45;&gt;140153173717200</title>\n",
              "<path fill=\"none\" stroke=\"black\" d=\"M167.52,-176.75C165.93,-169.72 163.64,-159.62 161.65,-150.84\"/>\n",
              "<polygon fill=\"black\" stroke=\"black\" points=\"165.07,-150.07 159.44,-141.09 158.24,-151.62 165.07,-150.07\"/>\n",
              "</g>\n",
              "<!-- 140153174753136 -->\n",
              "<g id=\"node7\" class=\"node\">\n",
              "<title>140153174753136</title>\n",
              "<polygon fill=\"lightblue\" stroke=\"black\" points=\"199,-263 140,-263 140,-232 199,-232 199,-263\"/>\n",
              "<text text-anchor=\"middle\" x=\"169.5\" y=\"-239\" font-family=\"monospace\" font-size=\"10.00\"> (2, 2)</text>\n",
              "</g>\n",
              "<!-- 140153174753136&#45;&gt;140153173715232 -->\n",
              "<g id=\"edge5\" class=\"edge\">\n",
              "<title>140153174753136&#45;&gt;140153173715232</title>\n",
              "<path fill=\"none\" stroke=\"black\" d=\"M169.5,-231.92C169.5,-224.22 169.5,-214.69 169.5,-206.43\"/>\n",
              "<polygon fill=\"black\" stroke=\"black\" points=\"173,-206.25 169.5,-196.25 166,-206.25 173,-206.25\"/>\n",
              "</g>\n",
              "<!-- 140153173711248&#45;&gt;140153173708752 -->\n",
              "<g id=\"edge6\" class=\"edge\">\n",
              "<title>140153173711248&#45;&gt;140153173708752</title>\n",
              "<path fill=\"none\" stroke=\"black\" d=\"M59.25,-121.75C66.97,-114.03 78.4,-102.6 87.72,-93.28\"/>\n",
              "<polygon fill=\"black\" stroke=\"black\" points=\"90.31,-95.64 94.91,-86.09 85.36,-90.69 90.31,-95.64\"/>\n",
              "</g>\n",
              "</g>\n",
              "</svg>\n"
            ],
            "text/plain": [
              "<graphviz.graphs.Digraph at 0x7f77f434ee90>"
            ]
          },
          "execution_count": 55,
          "metadata": {},
          "output_type": "execute_result"
        }
      ],
      "source": [
        "c = a + b\n",
        "d = a ** 2\n",
        "\n",
        "e = c + d\n",
        "\n",
        "torchviz.make_dot(e)"
      ]
    },
    {
      "cell_type": "code",
      "execution_count": 56,
      "metadata": {},
      "outputs": [
        {
          "data": {
            "image/svg+xml": [
              "<?xml version=\"1.0\" encoding=\"UTF-8\" standalone=\"no\"?>\n",
              "<!DOCTYPE svg PUBLIC \"-//W3C//DTD SVG 1.1//EN\"\n",
              " \"http://www.w3.org/Graphics/SVG/1.1/DTD/svg11.dtd\">\n",
              "<!-- Generated by graphviz version 2.50.0 (0)\n",
              " -->\n",
              "<!-- Pages: 1 -->\n",
              "<svg width=\"228pt\" height=\"271pt\"\n",
              " viewBox=\"0.00 0.00 228.00 271.00\" xmlns=\"http://www.w3.org/2000/svg\" xmlns:xlink=\"http://www.w3.org/1999/xlink\">\n",
              "<g id=\"graph0\" class=\"graph\" transform=\"scale(1 1) rotate(0) translate(4 267)\">\n",
              "<polygon fill=\"white\" stroke=\"transparent\" points=\"-4,4 -4,-267 224,-267 224,4 -4,4\"/>\n",
              "<!-- 140153319978032 -->\n",
              "<g id=\"node1\" class=\"node\">\n",
              "<title>140153319978032</title>\n",
              "<polygon fill=\"#caff70\" stroke=\"black\" points=\"139,-31 80,-31 80,0 139,0 139,-31\"/>\n",
              "<text text-anchor=\"middle\" x=\"109.5\" y=\"-7\" font-family=\"monospace\" font-size=\"10.00\"> (2, 2)</text>\n",
              "</g>\n",
              "<!-- 140153209876640 -->\n",
              "<g id=\"node2\" class=\"node\">\n",
              "<title>140153209876640</title>\n",
              "<polygon fill=\"lightgrey\" stroke=\"black\" points=\"154,-86 65,-86 65,-67 154,-67 154,-86\"/>\n",
              "<text text-anchor=\"middle\" x=\"109.5\" y=\"-74\" font-family=\"monospace\" font-size=\"10.00\">AddBackward0</text>\n",
              "</g>\n",
              "<!-- 140153209876640&#45;&gt;140153319978032 -->\n",
              "<g id=\"edge6\" class=\"edge\">\n",
              "<title>140153209876640&#45;&gt;140153319978032</title>\n",
              "<path fill=\"none\" stroke=\"black\" d=\"M109.5,-66.79C109.5,-60.07 109.5,-50.4 109.5,-41.34\"/>\n",
              "<polygon fill=\"black\" stroke=\"black\" points=\"113,-41.19 109.5,-31.19 106,-41.19 113,-41.19\"/>\n",
              "</g>\n",
              "<!-- 140153339712832 -->\n",
              "<g id=\"node3\" class=\"node\">\n",
              "<title>140153339712832</title>\n",
              "<polygon fill=\"lightgrey\" stroke=\"black\" points=\"154,-141 65,-141 65,-122 154,-122 154,-141\"/>\n",
              "<text text-anchor=\"middle\" x=\"109.5\" y=\"-129\" font-family=\"monospace\" font-size=\"10.00\">AddBackward0</text>\n",
              "</g>\n",
              "<!-- 140153339712832&#45;&gt;140153209876640 -->\n",
              "<g id=\"edge1\" class=\"edge\">\n",
              "<title>140153339712832&#45;&gt;140153209876640</title>\n",
              "<path fill=\"none\" stroke=\"black\" d=\"M109.5,-121.75C109.5,-114.8 109.5,-104.85 109.5,-96.13\"/>\n",
              "<polygon fill=\"black\" stroke=\"black\" points=\"113,-96.09 109.5,-86.09 106,-96.09 113,-96.09\"/>\n",
              "</g>\n",
              "<!-- 140153173712112 -->\n",
              "<g id=\"node4\" class=\"node\">\n",
              "<title>140153173712112</title>\n",
              "<polygon fill=\"lightgrey\" stroke=\"black\" points=\"101,-196 0,-196 0,-177 101,-177 101,-196\"/>\n",
              "<text text-anchor=\"middle\" x=\"50.5\" y=\"-184\" font-family=\"monospace\" font-size=\"10.00\">AccumulateGrad</text>\n",
              "</g>\n",
              "<!-- 140153173712112&#45;&gt;140153339712832 -->\n",
              "<g id=\"edge2\" class=\"edge\">\n",
              "<title>140153173712112&#45;&gt;140153339712832</title>\n",
              "<path fill=\"none\" stroke=\"black\" d=\"M59.98,-176.98C68.7,-169.15 81.84,-157.34 92.4,-147.86\"/>\n",
              "<polygon fill=\"black\" stroke=\"black\" points=\"94.75,-150.46 99.85,-141.17 90.07,-145.25 94.75,-150.46\"/>\n",
              "</g>\n",
              "<!-- 140153174216208 -->\n",
              "<g id=\"node5\" class=\"node\">\n",
              "<title>140153174216208</title>\n",
              "<polygon fill=\"lightblue\" stroke=\"black\" points=\"80,-263 21,-263 21,-232 80,-232 80,-263\"/>\n",
              "<text text-anchor=\"middle\" x=\"50.5\" y=\"-239\" font-family=\"monospace\" font-size=\"10.00\"> (2, 2)</text>\n",
              "</g>\n",
              "<!-- 140153174216208&#45;&gt;140153173712112 -->\n",
              "<g id=\"edge3\" class=\"edge\">\n",
              "<title>140153174216208&#45;&gt;140153173712112</title>\n",
              "<path fill=\"none\" stroke=\"black\" d=\"M50.5,-231.92C50.5,-224.22 50.5,-214.69 50.5,-206.43\"/>\n",
              "<polygon fill=\"black\" stroke=\"black\" points=\"54,-206.25 50.5,-196.25 47,-206.25 54,-206.25\"/>\n",
              "</g>\n",
              "<!-- 140153173715232 -->\n",
              "<g id=\"node6\" class=\"node\">\n",
              "<title>140153173715232</title>\n",
              "<polygon fill=\"lightgrey\" stroke=\"black\" points=\"220,-196 119,-196 119,-177 220,-177 220,-196\"/>\n",
              "<text text-anchor=\"middle\" x=\"169.5\" y=\"-184\" font-family=\"monospace\" font-size=\"10.00\">AccumulateGrad</text>\n",
              "</g>\n",
              "<!-- 140153173715232&#45;&gt;140153339712832 -->\n",
              "<g id=\"edge4\" class=\"edge\">\n",
              "<title>140153173715232&#45;&gt;140153339712832</title>\n",
              "<path fill=\"none\" stroke=\"black\" d=\"M159.86,-176.98C150.99,-169.15 137.63,-157.34 126.89,-147.86\"/>\n",
              "<polygon fill=\"black\" stroke=\"black\" points=\"129.13,-145.17 119.32,-141.17 124.49,-150.41 129.13,-145.17\"/>\n",
              "</g>\n",
              "<!-- 140153174753136 -->\n",
              "<g id=\"node7\" class=\"node\">\n",
              "<title>140153174753136</title>\n",
              "<polygon fill=\"lightblue\" stroke=\"black\" points=\"199,-263 140,-263 140,-232 199,-232 199,-263\"/>\n",
              "<text text-anchor=\"middle\" x=\"169.5\" y=\"-239\" font-family=\"monospace\" font-size=\"10.00\"> (2, 2)</text>\n",
              "</g>\n",
              "<!-- 140153174753136&#45;&gt;140153173715232 -->\n",
              "<g id=\"edge5\" class=\"edge\">\n",
              "<title>140153174753136&#45;&gt;140153173715232</title>\n",
              "<path fill=\"none\" stroke=\"black\" d=\"M169.5,-231.92C169.5,-224.22 169.5,-214.69 169.5,-206.43\"/>\n",
              "<polygon fill=\"black\" stroke=\"black\" points=\"173,-206.25 169.5,-196.25 166,-206.25 173,-206.25\"/>\n",
              "</g>\n",
              "</g>\n",
              "</svg>\n"
            ],
            "text/plain": [
              "<graphviz.graphs.Digraph at 0x7f77f42af1d0>"
            ]
          },
          "execution_count": 56,
          "metadata": {},
          "output_type": "execute_result"
        }
      ],
      "source": [
        "c = a + b\n",
        "d = (a ** 2).detach()\n",
        "\n",
        "e = c + d\n",
        "\n",
        "torchviz.make_dot(e)"
      ]
    },
    {
      "cell_type": "code",
      "execution_count": 57,
      "metadata": {},
      "outputs": [
        {
          "name": "stdout",
          "output_type": "stream",
          "text": [
            "tensor([[0.2710]], dtype=torch.float64)\n"
          ]
        }
      ],
      "source": [
        "# faster inference with torch.no_grad\n",
        "\n",
        "with torch.no_grad():\n",
        "    print(mlp_forward_pt(torch.tensor([ 0.69, 0.42 ], dtype=torch.float64), W1, W2, b1, b2)[-1])"
      ]
    },
    {
      "cell_type": "markdown",
      "metadata": {
        "id": "FTlh4xfnFi3V"
      },
      "source": [
        "####"
      ]
    },
    {
      "cell_type": "markdown",
      "metadata": {
        "id": "QBHExGDZBKnX"
      },
      "source": [
        "### Deep Learning with PyTorch"
      ]
    },
    {
      "cell_type": "markdown",
      "metadata": {
        "id": "KJ-Le0NwE-T6"
      },
      "source": [
        "#### `torch.nn`"
      ]
    },
    {
      "cell_type": "markdown",
      "metadata": {},
      "source": [
        "- Some helper network layers:"
      ]
    },
    {
      "cell_type": "code",
      "execution_count": 58,
      "metadata": {
        "id": "9Nw2RTx_FB8E"
      },
      "outputs": [
        {
          "data": {
            "text/plain": [
              "Flatten(start_dim=1, end_dim=-1)"
            ]
          },
          "execution_count": 58,
          "metadata": {},
          "output_type": "execute_result"
        }
      ],
      "source": [
        "# Standard NN Components: Linear, Embedding, Flatten, Convolutional\n",
        "\n",
        "torch.nn.Linear(2, 4)\n",
        "torch.nn.Embedding(50378, 768)\n",
        "torch.nn.Conv2d(3, 7, (3, 3))\n",
        "torch.nn.LSTM(768, 256)\n",
        "torch.nn.AvgPool2d((3, 3))\n",
        "torch.nn.Flatten()"
      ]
    },
    {
      "cell_type": "code",
      "execution_count": 59,
      "metadata": {},
      "outputs": [
        {
          "data": {
            "text/plain": [
              "Softmax(dim=-1)"
            ]
          },
          "execution_count": 59,
          "metadata": {},
          "output_type": "execute_result"
        }
      ],
      "source": [
        "# Activation: Sigmoid, ReLU, Softmax\n",
        "\n",
        "torch.nn.ReLU()\n",
        "torch.nn.Sigmoid()\n",
        "torch.nn.Softmax(dim=-1)"
      ]
    },
    {
      "cell_type": "code",
      "execution_count": 60,
      "metadata": {},
      "outputs": [
        {
          "data": {
            "text/plain": [
              "BatchNorm1d(4, eps=1e-05, momentum=0.1, affine=True, track_running_stats=True)"
            ]
          },
          "execution_count": 60,
          "metadata": {},
          "output_type": "execute_result"
        }
      ],
      "source": [
        "# Regularization and Normalization: Dropout, BatchNorm\n",
        "\n",
        "torch.nn.Dropout(0.2)\n",
        "torch.nn.BatchNorm1d(4)"
      ]
    },
    {
      "cell_type": "code",
      "execution_count": 61,
      "metadata": {},
      "outputs": [],
      "source": [
        "# Compositional: Sequential, ModuleDict, ModuleList\n",
        "\n",
        "model = torch.nn.Sequential(\n",
        "    torch.nn.Linear(X.shape[-1], 2),\n",
        "    torch.nn.ReLU(), \n",
        "    torch.nn.Linear(2, Y.shape[-1])\n",
        ")"
      ]
    },
    {
      "cell_type": "markdown",
      "metadata": {},
      "source": [
        "- Multiple ways to create networks:"
      ]
    },
    {
      "cell_type": "code",
      "execution_count": 62,
      "metadata": {},
      "outputs": [],
      "source": [
        "model = torch.nn.Sequential(\n",
        "    torch.nn.Linear(X.shape[-1], 2),\n",
        "    torch.nn.ReLU(),\n",
        "    torch.nn.Linear(2, Y.shape[-1])\n",
        ")"
      ]
    },
    {
      "cell_type": "code",
      "execution_count": 63,
      "metadata": {},
      "outputs": [
        {
          "name": "stdout",
          "output_type": "stream",
          "text": [
            "0.weight True\n",
            "0.bias True\n",
            "2.weight True\n",
            "2.bias True\n"
          ]
        }
      ],
      "source": [
        "for name, param in model.named_parameters():\n",
        "    print(name, param.requires_grad)"
      ]
    },
    {
      "cell_type": "code",
      "execution_count": 64,
      "metadata": {
        "id": "FuHjF_EoFCNa"
      },
      "outputs": [],
      "source": [
        "class MLP(torch.nn.Module):\n",
        "\n",
        "    def __init__(self, x_dim, y_dim):\n",
        "        \"\"\" Initialize your network here.\n",
        "\n",
        "            You may have any hyperparameters you wish to use to customize the model here.\n",
        "        \"\"\"\n",
        "        super().__init__()\n",
        "\n",
        "        self.layer_1 = torch.nn.Linear(x_dim, 2)\n",
        "        self.layer_1_act = torch.nn.ReLU()\n",
        "        self.layer_2 = torch.nn.Linear(2, y_dim)\n",
        "\n",
        "    def forward(self, inputs):\n",
        "        \"\"\" Forward pass over your network.\n",
        "\n",
        "            As an implementor, simply express how you want the inputs to be processed, and what the final output would be.\n",
        "            PyTorch takes care of the rest: the backward pass, the connections, the gradient computation, the parameter updates, and more!\n",
        "        \"\"\"\n",
        "\n",
        "        hidden = self.layer_1_act(self.layer_1(inputs))\n",
        "        return self.layer_2(hidden)"
      ]
    },
    {
      "cell_type": "code",
      "execution_count": 65,
      "metadata": {},
      "outputs": [
        {
          "name": "stdout",
          "output_type": "stream",
          "text": [
            "layer_1.weight True\n",
            "layer_1.bias True\n",
            "layer_2.weight True\n",
            "layer_2.bias True\n"
          ]
        }
      ],
      "source": [
        "model = MLP(2, 1)\n",
        "\n",
        "for name, param in model.named_parameters():\n",
        "    print(name, param.requires_grad)"
      ]
    },
    {
      "cell_type": "code",
      "execution_count": 66,
      "metadata": {},
      "outputs": [
        {
          "data": {
            "text/plain": [
              "MLP(\n",
              "  (layer_1): Linear(in_features=2, out_features=2, bias=True)\n",
              "  (layer_1_act): ReLU()\n",
              "  (layer_2): Linear(in_features=2, out_features=1, bias=True)\n",
              ")"
            ]
          },
          "execution_count": 66,
          "metadata": {},
          "output_type": "execute_result"
        }
      ],
      "source": [
        "model"
      ]
    },
    {
      "cell_type": "markdown",
      "metadata": {
        "id": "9QEddZCJPh4X"
      },
      "source": [
        "##### Losses and Mathematical Utility Functions"
      ]
    },
    {
      "cell_type": "code",
      "execution_count": 67,
      "metadata": {},
      "outputs": [],
      "source": [
        "# loss functions for classification (as modules and as functions)\n",
        "\n",
        "loss_function = torch.nn.CrossEntropyLoss()\n",
        "loss_function = torch.nn.functional.cross_entropy\n",
        "\n",
        "# or\n",
        "\n",
        "loss_function = torch.nn.NLLLoss()\n",
        "loss_function = torch.nn.functional.nll_loss"
      ]
    },
    {
      "cell_type": "code",
      "execution_count": 68,
      "metadata": {},
      "outputs": [],
      "source": [
        "# loss functions for regression (as module and as function)\n",
        "\n",
        "loss_function = torch.nn.MSELoss()\n",
        "loss_function = torch.nn.functional.mse_loss"
      ]
    },
    {
      "cell_type": "code",
      "execution_count": 69,
      "metadata": {},
      "outputs": [
        {
          "data": {
            "text/plain": [
              "<function torch.nn.functional.relu(input: torch.Tensor, inplace: bool = False) -> torch.Tensor>"
            ]
          },
          "execution_count": 69,
          "metadata": {},
          "output_type": "execute_result"
        }
      ],
      "source": [
        "# functions in torch.nn.functional: losses, layers, activations, etc.\n",
        "\n",
        "torch.nn.functional.kl_div\n",
        "torch.nn.functional.dropout\n",
        "torch.nn.functional.softmax\n",
        "torch.nn.functional.relu"
      ]
    },
    {
      "cell_type": "markdown",
      "metadata": {
        "id": "gjVONbLTFpCb"
      },
      "source": [
        "#### Utilities for handling datasets"
      ]
    },
    {
      "cell_type": "markdown",
      "metadata": {
        "id": "qq5uhxOwItgf"
      },
      "source": [
        "```torch.utils.data.Dataset```"
      ]
    },
    {
      "cell_type": "code",
      "execution_count": 70,
      "metadata": {},
      "outputs": [],
      "source": [
        "from torch.utils.data import Dataset, DataLoader"
      ]
    },
    {
      "cell_type": "code",
      "execution_count": 71,
      "metadata": {
        "id": "Z88VWTyrFv-Q"
      },
      "outputs": [],
      "source": [
        "class CustomDataset(Dataset):\n",
        "    def __init__(self, X, Y):\n",
        "        self.X = torch.as_tensor(X, dtype=torch.float32)\n",
        "        self.Y = torch.as_tensor(Y, dtype=torch.float32)\n",
        "\n",
        "    def __len__(self):\n",
        "        return self.X.shape[0]\n",
        "\n",
        "    def __getitem__(self, index):\n",
        "        return (self.X[index], self.Y[index])"
      ]
    },
    {
      "cell_type": "code",
      "execution_count": 72,
      "metadata": {},
      "outputs": [],
      "source": [
        "dataset = CustomDataset(X, Y)"
      ]
    },
    {
      "cell_type": "markdown",
      "metadata": {
        "id": "IiYuPFJIIwmY"
      },
      "source": [
        "```torch.utils.data.DataLoader```"
      ]
    },
    {
      "cell_type": "code",
      "execution_count": 73,
      "metadata": {
        "id": "DxyDtvgwI0E5"
      },
      "outputs": [
        {
          "name": "stdout",
          "output_type": "stream",
          "text": [
            "torch.Size([10, 2]) torch.Size([10, 1])\n"
          ]
        }
      ],
      "source": [
        "dataloader = DataLoader(dataset, batch_size=10, shuffle=True)\n",
        "\n",
        "for x_batch, y_batch in dataloader:\n",
        "    print(x_batch.shape, y_batch.shape)\n",
        "    break"
      ]
    },
    {
      "cell_type": "markdown",
      "metadata": {},
      "source": [
        "#### Optimization with `torch.optim`"
      ]
    },
    {
      "cell_type": "code",
      "execution_count": 74,
      "metadata": {},
      "outputs": [],
      "source": [
        "# defining an optimizer for a model (instance of nn.Module)\n",
        "\n",
        "model = MLP(X.shape[-1], Y.shape[-1])\n",
        "optimizer = torch.optim.SGD(model.parameters(), lr=0.01)"
      ]
    },
    {
      "cell_type": "code",
      "execution_count": 75,
      "metadata": {},
      "outputs": [],
      "source": [
        "def mlp_init_true_pt(x_dim, y_dim):\n",
        "    model = MLP(X.shape[-1], Y.shape[-1])\n",
        "    optimizer = torch.optim.SGD(model.parameters(), lr=0.01)\n",
        "    return model, optimizer\n",
        "\n",
        "def mlp_forward_true_pt(X, model):\n",
        "    return model(X)\n",
        "\n",
        "def mlp_backward_true_pt(loss, model, optimizer):\n",
        "    loss.backward()\n",
        "    optimizer.step()\n",
        "    model.zero_grad()"
      ]
    },
    {
      "cell_type": "markdown",
      "metadata": {},
      "source": [
        "#### Putting it all together"
      ]
    },
    {
      "cell_type": "code",
      "execution_count": 76,
      "metadata": {},
      "outputs": [
        {
          "data": {
            "application/vnd.jupyter.widget-view+json": {
              "model_id": "5a56152bd04d4e9d827691af9c535126",
              "version_major": 2,
              "version_minor": 0
            },
            "text/plain": [
              "  0%|          | 0/10000 [00:00<?, ?it/s]"
            ]
          },
          "metadata": {},
          "output_type": "display_data"
        }
      ],
      "source": [
        "losses = []\n",
        "model, optimizer = mlp_init_true_pt(X.shape[-1], Y.shape[-1])\n",
        "\n",
        "num_epochs = 100\n",
        "batch_size = 10\n",
        "\n",
        "dataset = CustomDataset(X, Y)\n",
        "dataloader = DataLoader(dataset, batch_size, shuffle=True)\n",
        "\n",
        "with tqdm.tqdm(total = num_epochs * len(dataloader)) as pbar:\n",
        "    for epoch in range(num_epochs):\n",
        "        pbar.set_description(f\"Epoch #{epoch+1}\")\n",
        "\n",
        "        for x_batch, y_batch in dataloader:\n",
        "            y_pred = mlp_forward_true_pt(x_batch, model)\n",
        "            loss = torch.nn.functional.mse_loss(y_pred, y_batch)\n",
        "            mlp_backward_true_pt(loss, model, optimizer)\n",
        "\n",
        "            pbar.update(1)\n",
        "            pbar.set_postfix(dict(loss=loss.item()))\n",
        "            losses.append(loss.cpu().item())"
      ]
    },
    {
      "cell_type": "code",
      "execution_count": 77,
      "metadata": {},
      "outputs": [
        {
          "data": {
            "text/plain": [
              "[<matplotlib.lines.Line2D at 0x7f77f437b090>]"
            ]
          },
          "execution_count": 77,
          "metadata": {},
          "output_type": "execute_result"
        },
        {
          "data": {
            "image/png": "[encoded data removed]",
            "text/plain": [
              "<Figure size 640x480 with 1 Axes>"
            ]
          },
          "metadata": {},
          "output_type": "display_data"
        }
      ],
      "source": [
        "pyplot.plot(losses)"
      ]
    },
    {
      "cell_type": "markdown",
      "metadata": {},
      "source": [
        "#### Inference Caveats"
      ]
    },
    {
      "cell_type": "markdown",
      "metadata": {},
      "source": [
        "- `torch.nn.Module.eval()`:"
      ]
    },
    {
      "cell_type": "code",
      "execution_count": 79,
      "metadata": {},
      "outputs": [
        {
          "name": "stdout",
          "output_type": "stream",
          "text": [
            "tensor([[0.2700]])\n"
          ]
        }
      ],
      "source": [
        "# correct way to do infererence from any trained model\n",
        "\n",
        "model.eval() # or model.train(False)\n",
        "\n",
        "with torch.no_grad():\n",
        "    print(model(torch.tensor([[ 0.69, 0.42 ]])))"
      ]
    },
    {
      "cell_type": "markdown",
      "metadata": {
        "id": "cammvHOHPOfr"
      },
      "source": [
        "##### Saving and Loading Trained Models"
      ]
    },
    {
      "cell_type": "code",
      "execution_count": null,
      "metadata": {
        "id": "5wftqxxKPTFq"
      },
      "outputs": [],
      "source": [
        "# save the model\n",
        "torch.save(model, \"model.pt\")\n",
        "\n",
        "# load the model back\n",
        "model = torch.load(model, \"model.pt\")"
      ]
    },
    {
      "cell_type": "markdown",
      "metadata": {
        "id": "u4u5PBGvBe_i"
      },
      "source": [
        "### References"
      ]
    },
    {
      "cell_type": "markdown",
      "metadata": {
        "id": "ygCQGQo-Bmls"
      },
      "source": [
        "- [Deep Learning with PyTorch: a 60 Minute Blitz by pytorch.org](https://pytorch.org/tutorials/beginner/deep_learning_60min_blitz.html)\n",
        "- [Tutorials about different things PyTorch](https://pytorch.org/tutorials)\n",
        "  - [Introduction to PyTorch - YouTube Series](https://pytorch.org/tutorials/beginner/introyt.html)\n",
        "- PyTorch Repository on [GitHub](https://github.com/pytorch/pytorch)\n",
        "- [PyTorch Cheatsheet for Quick References](https://pytorch.org/tutorials/beginner/ptcheat.html)"
      ]
    }
  ],
  "metadata": {
    "colab": {
      "provenance": [],
      "toc_visible": true
    },
    "kernelspec": {
      "display_name": "Python 3",
      "name": "python3"
    },
    "language_info": {
      "codemirror_mode": {
        "name": "ipython",
        "version": 3
      },
      "file_extension": ".py",
      "mimetype": "text/x-python",
      "name": "python",
      "nbconvert_exporter": "python",
      "pygments_lexer": "ipython3",
      "version": "3.11.4"
    }
  },
  "nbformat": 4,
  "nbformat_minor": 0
}
